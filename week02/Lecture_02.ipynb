{
  "nbformat": 4,
  "nbformat_minor": 0,
  "metadata": {
    "colab": {
      "provenance": []
    },
    "kernelspec": {
      "name": "python3",
      "display_name": "Python 3"
    },
    "language_info": {
      "name": "python"
    }
  },
  "cells": [
    {
      "cell_type": "markdown",
      "source": [
        "# Продвинутый Python, лекция 2\n",
        "\n",
        "**Лектор:** Петров Тимур\n",
        "\n",
        "**Семинаристы:** Петров Тимур, Бузаев Федор, Дешеулин Олег, Коган Александра\n",
        "\n",
        "**Spoiler Alert:** в рамках курса нельзя изучить ни одну из тем от и до досконально (к сожалению, на это требуется больше времени, чем даже 3 часа в неделю). Но мы попробуем рассказать столько, сколько возможно :)"
      ],
      "metadata": {
        "id": "dCsgr1KTxILm"
      }
    },
    {
      "cell_type": "markdown",
      "source": [
        "Итак, наконец-то приступаем к тому, что связано непосредственно с Python!\n",
        "\n",
        "И сегодня мы начнем с некоторого must-have для аналитики/machine laearning и еще много чего:\n",
        "\n",
        "* numpy\n",
        "\n",
        "* scipy"
      ],
      "metadata": {
        "id": "E31zJKC4xvav"
      }
    },
    {
      "cell_type": "markdown",
      "source": [
        "Поехали!\n",
        "\n",
        "![](https://i.pinimg.com/originals/77/18/b2/7718b2f6c858e331b76d6d0b8b01309b.gif)"
      ],
      "metadata": {
        "id": "oq_gMkhBx7aV"
      }
    },
    {
      "cell_type": "markdown",
      "source": [
        "## Numpy"
      ],
      "metadata": {
        "id": "vrsgj1qAoj1n"
      }
    },
    {
      "cell_type": "markdown",
      "source": [
        "### Что это такое?"
      ],
      "metadata": {
        "id": "oHz8RCn1zE6D"
      }
    },
    {
      "cell_type": "markdown",
      "source": [
        "Что такое Numpy? Это библиотека, которая позволяет достаточно быстро выполнять различные операции с массивами (многомерными и не очень): перемножение, сложение, преобразования, базовый анализ данных\n",
        "\n",
        "Вся работа в массивами в Numpy гораздо проще и быстрее, чем с обычными списками в Python. Давайте проверим это на простом примере\n",
        "\n",
        "Достаточно часто в линале вам надо было перемножать матрицы, при этом внутри Python нет встроенного перемножения матриц. Без прочих оптимизаций типа алгоритма Штрассена и так далее, давайте попробуем перемножить две матрицы в чистом Python и с помощью numpy и сравним время"
      ],
      "metadata": {
        "id": "1YW10vcgpGJz"
      }
    },
    {
      "cell_type": "code",
      "source": [
        "a = [[i for i in range(50)] for j in range(50)] #возьмем матрицу a размера 50x50\n",
        "b = [[i for i in range(100)] for j in range(50)] #возьмем матрицу b размера 50x100"
      ],
      "metadata": {
        "id": "XPKY_-Qjqe7_"
      },
      "execution_count": null,
      "outputs": []
    },
    {
      "cell_type": "code",
      "execution_count": null,
      "metadata": {
        "id": "RrNkFQYdn0gJ"
      },
      "outputs": [],
      "source": [
        "## Pure Python\n",
        "def matmul_python(a,b):\n",
        "    return [[sum(ele_a*ele_b for ele_a, ele_b in zip(row_a, col_b))\n",
        "             for col_b in list(zip(*b))] for row_a in a]"
      ]
    },
    {
      "cell_type": "code",
      "source": [
        "#Numpy (сделаем функцию, чтобы было честнее)\n",
        "def matmul_numpy(a, b):\n",
        "    return np.matrix(a) * np.matrix(b)"
      ],
      "metadata": {
        "id": "tFD_lYFkq6e7"
      },
      "execution_count": null,
      "outputs": []
    },
    {
      "cell_type": "code",
      "source": [
        "%%time\n",
        "\n",
        "k_python = matmul_python(a, b)"
      ],
      "metadata": {
        "colab": {
          "base_uri": "https://localhost:8080/"
        },
        "id": "MzYmQtugrQLZ",
        "outputId": "74339390-28b2-47e0-8df3-3776cb6fb4cc"
      },
      "execution_count": null,
      "outputs": [
        {
          "output_type": "stream",
          "name": "stdout",
          "text": [
            "CPU times: user 37 ms, sys: 782 µs, total: 37.8 ms\n",
            "Wall time: 41.4 ms\n"
          ]
        }
      ]
    },
    {
      "cell_type": "code",
      "source": [
        "%%time\n",
        "\n",
        "k_numpy = matmul_numpy(a, b)"
      ],
      "metadata": {
        "colab": {
          "base_uri": "https://localhost:8080/"
        },
        "id": "TFtI-R-BrWLL",
        "outputId": "2a43052e-944b-4497-be7c-5e224844d0c9"
      },
      "execution_count": null,
      "outputs": [
        {
          "output_type": "stream",
          "name": "stdout",
          "text": [
            "CPU times: user 1.85 ms, sys: 0 ns, total: 1.85 ms\n",
            "Wall time: 1.86 ms\n"
          ]
        }
      ]
    },
    {
      "cell_type": "code",
      "source": [
        "np.alltrue(k_python == k_numpy) #проверяем, что таблицы совпадают"
      ],
      "metadata": {
        "colab": {
          "base_uri": "https://localhost:8080/"
        },
        "id": "aXJ85GwssAiI",
        "outputId": "e33ad5d5-2271-4e0d-845a-8219b2f524c5"
      },
      "execution_count": null,
      "outputs": [
        {
          "output_type": "execute_result",
          "data": {
            "text/plain": [
              "True"
            ]
          },
          "metadata": {},
          "execution_count": 18
        }
      ]
    },
    {
      "cell_type": "markdown",
      "source": [
        "Удивительно, Numpy почти в 30 раз быстрее, чем Python! За счет чего это получается?\n",
        "\n",
        "Причин несколько:\n",
        "\n",
        "* В первую очередь за счет ограничения со стороны размера: если в Numpy при создании объекта он имеет фиксированный размер (и если его надо поменять, то создастся новый объект и старый будет удален), то в Python нет фиксированного размера (что усложняет работу)\n",
        "\n",
        "* За счет фиксированного размера массивы в NumPy и хранятся в памяти по-другому:\n",
        "\n",
        "Numpy хранит данные друг за другом:\n",
        "\n",
        "![Numpy](https://miro.medium.com/max/1400/1*g1qXNq68rV4gVfY4B7TTBA.png)\n",
        "\n",
        "В свою очередь внутри Python элементы хранятся рандомно (поэтому когда вы обращаетесь к элементу, то вы обращаетесь к ссылке, ссылка идет в нужное место в памяти и находит его). С точки зрения выполнения арифметических операций это сложнее\n",
        "\n",
        "![Python](https://miro.medium.com/max/1400/1*GbfijZi4QKIGwtv4Lqj0QA.png)\n",
        "\n",
        "* А такое хранение позволяет гораздо проще итерироваться по массиву (итерация идет с помощью strides, говорящаяя, по сути, сколько бит надо пройти до следующего значения в строке/столбце)\n",
        "\n",
        "Рассмотрим ситуацию с транспонированием: это же в Python надо брать и прямо переворачивать! А вот в Numpy мы по сути не меняем хранение данных, мы просто делаем другие strides!\n",
        "\n",
        "Попробуйте запустить:\n",
        "\n",
        "```\n",
        "b = np.matrix(b)\n",
        "print(b.strides)\n",
        "print(b.T.strides)\n",
        "```\n",
        "\n",
        "И вы увидите, что поменялись strides (что говорит о том, что данные остались на местах, мы просто изменили то, как по нему ходить)\n",
        "\n",
        "* Код в Numpy - это прекомпилированный код, написанных на C (то есть мы проходим более быстрый путь от компиляции до выполнения)"
      ],
      "metadata": {
        "id": "S-a737S3sbVJ"
      }
    },
    {
      "cell_type": "markdown",
      "source": [
        "В целом этого уже достаточно, чтобы использовать Numpy (а теперь представьте, если делать все преобразования с массивами в моделях ML делать с помощью чистого Python, было бы безумие)\n",
        "\n",
        "![](https://i.playground.ru/p/KD9p3ms8GKiSpcpgBcxYww.jpeg)"
      ],
      "metadata": {
        "id": "W2J0titiyqBy"
      }
    },
    {
      "cell_type": "code",
      "source": [
        "b = np.matrix(b)\n",
        "print(b.strides)\n",
        "print(b.T.strides)"
      ],
      "metadata": {
        "colab": {
          "base_uri": "https://localhost:8080/"
        },
        "id": "Gkeo2d0ewG3J",
        "outputId": "5a80327c-661d-4270-8370-65850b98df26"
      },
      "execution_count": null,
      "outputs": [
        {
          "output_type": "stream",
          "name": "stdout",
          "text": [
            "(800, 8)\n",
            "(8, 800)\n"
          ]
        }
      ]
    },
    {
      "cell_type": "markdown",
      "source": [
        "### Как пользоваться?"
      ],
      "metadata": {
        "id": "HCsxKs-uzIKN"
      }
    },
    {
      "cell_type": "markdown",
      "source": [
        "А теперь о том, как пользоваться и что надо знать (будем учить матчасть)\n",
        "\n",
        "Самое полезное - [документация](https://numpy.org/doc/stable/reference/index.html) (к ней в любом случае надо будет обращаться, знать все невозможно)"
      ],
      "metadata": {
        "id": "ud2Z1UsazMp-"
      }
    },
    {
      "cell_type": "markdown",
      "source": [
        "#### Создание\n",
        "\n"
      ],
      "metadata": {
        "id": "COyBZ83jzutH"
      }
    },
    {
      "cell_type": "markdown",
      "source": [
        "Массивы в Numpy называются ndarray (n-dimensional array). Массив можно создать из любого массива в Python, можно также создать из коробки\n",
        "\n",
        "Обратите внимание: чтобы создать нормально ndarray из питоновских списков, нужно иметь в виду:\n",
        "\n",
        "* Все элементы должны быть одного типа данных (иначе вы можете создадите массив, состоящий из питоновских листов, будет грустно, никакого эффекта), не полагайтесь на ум numpy\n",
        "\n",
        "* Если у вас все ок, но при этом есть одни элемента float, другие int, то он может не привести самостоятельно все в формат float. Так что будет славно, если вы укажете тип элементов в ndarray"
      ],
      "metadata": {
        "id": "Nveij5AAzyTQ"
      }
    },
    {
      "cell_type": "code",
      "source": [
        "a = [1, 2, 2.7]\n",
        "\n",
        "print(np.array(a))\n",
        "print('-' * 30)\n",
        "print(np.array(a, int)) #второй аргумент - тип. Если указать, то он попробует перевести все элементы в этот типа\n",
        "print('-' * 30)\n",
        "print(np.array(a, str)) # со строками тоже работает\n",
        "\n",
        "a = [[1, 2, 'str'], [1, 2 ,3]]\n",
        "\n",
        "print('-' * 30)\n",
        "np.array(a) # он приведет, но хотели ли вы этого?.."
      ],
      "metadata": {
        "colab": {
          "base_uri": "https://localhost:8080/"
        },
        "id": "AjmtZo7r0l9T",
        "outputId": "bc4e8b7d-8893-4e7d-c72b-7cbc6749c453"
      },
      "execution_count": null,
      "outputs": [
        {
          "output_type": "stream",
          "name": "stdout",
          "text": [
            "[1.  2.  2.7]\n",
            "------------------------------\n",
            "[1 2 2]\n",
            "------------------------------\n",
            "['1' '2' '2.7']\n",
            "------------------------------\n"
          ]
        },
        {
          "output_type": "execute_result",
          "data": {
            "text/plain": [
              "array([['1', '2', 'str'],\n",
              "       ['1', '2', '3']], dtype='<U21')"
            ]
          },
          "metadata": {},
          "execution_count": 28
        }
      ]
    },
    {
      "cell_type": "markdown",
      "source": [
        "Из коробки можно создать много разных массивов, например:"
      ],
      "metadata": {
        "id": "GlbQCK0G16Kp"
      }
    },
    {
      "cell_type": "markdown",
      "source": [
        "* np.zeros - создать массив из нулей (аргументы - tuple размеров, опционально - тип)"
      ],
      "metadata": {
        "id": "Q7_lNv_b2Fx1"
      }
    },
    {
      "cell_type": "code",
      "source": [
        "np.zeros((3, 4), dtype=int)"
      ],
      "metadata": {
        "colab": {
          "base_uri": "https://localhost:8080/"
        },
        "id": "1G4R8Wy32Bo7",
        "outputId": "a2e46499-78d7-4dc0-a642-c65715ee00ef"
      },
      "execution_count": null,
      "outputs": [
        {
          "output_type": "execute_result",
          "data": {
            "text/plain": [
              "array([[0, 0, 0, 0],\n",
              "       [0, 0, 0, 0],\n",
              "       [0, 0, 0, 0]])"
            ]
          },
          "metadata": {},
          "execution_count": 31
        }
      ]
    },
    {
      "cell_type": "markdown",
      "source": [
        "* np.ones - создать массив из единиц (аргументы - tuple размеров, опционально - тип)"
      ],
      "metadata": {
        "id": "aHrTN3wy2OYW"
      }
    },
    {
      "cell_type": "code",
      "source": [
        "np.ones((3, 4), dtype=float)"
      ],
      "metadata": {
        "colab": {
          "base_uri": "https://localhost:8080/"
        },
        "id": "AHtGlcKW2aZX",
        "outputId": "72783521-0923-4f63-edba-514bd72817ee"
      },
      "execution_count": null,
      "outputs": [
        {
          "output_type": "execute_result",
          "data": {
            "text/plain": [
              "array([[1., 1., 1., 1.],\n",
              "       [1., 1., 1., 1.],\n",
              "       [1., 1., 1., 1.]])"
            ]
          },
          "metadata": {},
          "execution_count": 32
        }
      ]
    },
    {
      "cell_type": "markdown",
      "source": [
        "* np.eye - создать массив из нулей и единиц на главной диагонали (аргументы - размеры матрицы, опционально - тип)\n",
        "\n",
        "* np.identity(n) - создать единичную матрицу размера $n \\times n$"
      ],
      "metadata": {
        "id": "claVuHSc2Sdw"
      }
    },
    {
      "cell_type": "code",
      "source": [
        "np.eye(4, 3, dtype=str)"
      ],
      "metadata": {
        "colab": {
          "base_uri": "https://localhost:8080/"
        },
        "id": "2sj8lJAF2dU7",
        "outputId": "f736d40b-b9eb-470f-ed56-2984dc1c00ad"
      },
      "execution_count": null,
      "outputs": [
        {
          "output_type": "execute_result",
          "data": {
            "text/plain": [
              "array([['1', '', ''],\n",
              "       ['', '1', ''],\n",
              "       ['', '', '1'],\n",
              "       ['', '', '']], dtype='<U1')"
            ]
          },
          "metadata": {},
          "execution_count": 38
        }
      ]
    },
    {
      "cell_type": "markdown",
      "source": [
        "* np.empty - создать массив из рандомных элементов"
      ],
      "metadata": {
        "id": "1Mxc18Kb2_hA"
      }
    },
    {
      "cell_type": "code",
      "source": [
        "np.empty((2, 3), float)"
      ],
      "metadata": {
        "colab": {
          "base_uri": "https://localhost:8080/"
        },
        "id": "IbBWyt8L3Ebe",
        "outputId": "f7812756-1edf-4c0b-deb8-798280756ef9"
      },
      "execution_count": null,
      "outputs": [
        {
          "output_type": "execute_result",
          "data": {
            "text/plain": [
              "array([[4.277682e-316, 0.000000e+000, 0.000000e+000],\n",
              "       [0.000000e+000, 0.000000e+000, 0.000000e+000]])"
            ]
          },
          "metadata": {},
          "execution_count": 37
        }
      ]
    },
    {
      "cell_type": "markdown",
      "source": [
        "Функции для созданий одномерных массивов:\n",
        "\n",
        "* np.arange(a, b, step) - аналог range (получаем массив)\n",
        "\n",
        "* np.linspace(a, b, num, enndpoint=True) - получить равномерно $num$ значений от $a$ (включительно) до $b$ (до endpoint - включительно или нет)\n",
        "\n",
        "* np.logspace(a, b, num, endpoint=True, base=10.0) - получить равномерные значения по логарифмической шкале (от $base^a$ до $base^b$)"
      ],
      "metadata": {
        "id": "tGx-rdyF3iY4"
      }
    },
    {
      "cell_type": "code",
      "source": [
        "print(np.arange(0, 10))\n",
        "print(np.linspace(0, 10, 11, endpoint=True))\n",
        "print(np.logspace(2, 4, 5, endpoint=True, base=2))"
      ],
      "metadata": {
        "colab": {
          "base_uri": "https://localhost:8080/"
        },
        "id": "J7kzEiIz6CtN",
        "outputId": "963d22d7-d8af-4869-c7a9-dfac51966884"
      },
      "execution_count": null,
      "outputs": [
        {
          "output_type": "stream",
          "name": "stdout",
          "text": [
            "[0 1 2 3 4 5 6 7 8 9]\n",
            "[ 0.  1.  2.  3.  4.  5.  6.  7.  8.  9. 10.]\n",
            "[ 4.          5.65685425  8.         11.3137085  16.        ]\n"
          ]
        }
      ]
    },
    {
      "cell_type": "markdown",
      "source": [
        "Теперь про другие способы создать ndarray. Очевидно, что вам часто потребуется загрузить из каких-то других источников (например, вам дали файл и сказали: делай)\n",
        "\n",
        "Варианты:\n",
        "\n",
        "* np.loadtxt(file, delimeter, skiprows=0) - возьми данные из текста, разделяются через delimeter (например, \\t - табами), скипни skiprows строк (если там вам не нужны названия, например)\n",
        "\n",
        "* np.fromstring(s, sep) - загрузи из строки\n",
        "\n",
        "* np.load(file) - загрузи из файла (работает для всяких штук типа .npy, .npz)"
      ],
      "metadata": {
        "id": "gliffqjDeIbh"
      }
    },
    {
      "cell_type": "markdown",
      "source": [
        "#### Индексация"
      ],
      "metadata": {
        "id": "LhG9AH7-beOC"
      }
    },
    {
      "cell_type": "markdown",
      "source": [
        "Тут все достаточно просто - обращение как в питоновских списках"
      ],
      "metadata": {
        "id": "tpE5CSDXbgvp"
      }
    },
    {
      "cell_type": "code",
      "source": [
        "a = np.arange(28)\n",
        "a = a.reshape(2, -1)\n",
        "print(a[0][0], a[0, 0]) # обращение к элементу, несколько вариантов\n",
        "print(a[:1]) # вывести строку\n",
        "print(a[-1][5:7]) # вывести последнюю строку и часть столбцов\n",
        "print(a[:, 5:7]) # вывести столбцы"
      ],
      "metadata": {
        "colab": {
          "base_uri": "https://localhost:8080/"
        },
        "id": "tFeE55oybl_N",
        "outputId": "05d0b30b-c670-4553-eff2-850152c6ab1e"
      },
      "execution_count": null,
      "outputs": [
        {
          "output_type": "stream",
          "name": "stdout",
          "text": [
            "0 0\n",
            "[[ 0  1  2  3  4  5  6  7  8  9 10 11 12 13]]\n",
            "[19 20]\n",
            "[[ 5  6]\n",
            " [19 20]]\n"
          ]
        }
      ]
    },
    {
      "cell_type": "markdown",
      "source": [
        "#### Арифметика"
      ],
      "metadata": {
        "id": "k2QnwLxT6eeU"
      }
    },
    {
      "cell_type": "markdown",
      "source": [
        "Ну почти как везде (операции с числами считаются как операции со скаляром):\n",
        "\n",
        "* +, - - сложение-вычитание (поэлементно)\n",
        "\n",
        "* \\* - умножение (поэлементное)\n",
        "\n",
        "* .T - транспонирование\n",
        "\n",
        "* A.dot(B) - перемножение матриц"
      ],
      "metadata": {
        "id": "8e4gNoeO6g1h"
      }
    },
    {
      "cell_type": "code",
      "source": [
        "np.random.seed = 1514 ##зададим какой-нибудь seed\n",
        "\n",
        "a = np.empty((3, 3))\n",
        "b = np.empty((3, 3))\n",
        "\n",
        "print(a)\n",
        "print(b)\n",
        "print(a + b)\n",
        "print(a - b)\n",
        "print(a * b)\n",
        "print(a.dot(b))"
      ],
      "metadata": {
        "colab": {
          "base_uri": "https://localhost:8080/"
        },
        "id": "22kBGRGD7Pnm",
        "outputId": "a74403ae-3db8-47e5-b866-aaae6f7aa163"
      },
      "execution_count": null,
      "outputs": [
        {
          "output_type": "stream",
          "name": "stdout",
          "text": [
            "[[ 1.11111111  2.22222222  3.33333333]\n",
            " [ 4.44444444  5.55555556  6.66666667]\n",
            " [ 7.77777778  8.88888889 10.        ]]\n",
            "[[ 1.11111111  2.22222222  3.33333333]\n",
            " [ 4.44444444  5.55555556  6.66666667]\n",
            " [ 7.77777778  8.88888889 10.        ]]\n",
            "[[ 2.22222222  4.44444444  6.66666667]\n",
            " [ 8.88888889 11.11111111 13.33333333]\n",
            " [15.55555556 17.77777778 20.        ]]\n",
            "[[0. 0. 0.]\n",
            " [0. 0. 0.]\n",
            " [0. 0. 0.]]\n",
            "[[  1.2345679    4.9382716   11.11111111]\n",
            " [ 19.75308642  30.86419753  44.44444444]\n",
            " [ 60.49382716  79.01234568 100.        ]]\n",
            "[[ 37.03703704  44.44444444  51.85185185]\n",
            " [ 81.48148148 100.         118.51851852]\n",
            " [125.92592593 155.55555556 185.18518519]]\n"
          ]
        }
      ]
    },
    {
      "cell_type": "markdown",
      "source": [
        "Умножений, на самом деле, есть несколько:\n",
        "\n",
        "* a * b - поэлементный (обратите внимание, если a и b типа matrix, то это просто умножение)\n",
        "\n",
        "* a.dot(b) и np.dot(a, b) - умножение матриц (a на b)\n",
        "\n",
        "* np.matmul(a, b) и a @ b - умножение матриц, но тут сложнее :)"
      ],
      "metadata": {
        "id": "dTabSUVE8Sru"
      }
    },
    {
      "cell_type": "code",
      "source": [
        "a = np.arange(2 * 2 * 4 * 5).reshape((2, 5, 2, 4))\n",
        "b = np.arange(2 * 2 * 4 * 5).reshape((2, 5, 4, 2))\n",
        "np.matmul(a,b).shape"
      ],
      "metadata": {
        "colab": {
          "base_uri": "https://localhost:8080/"
        },
        "id": "opAt4gJtLzyu",
        "outputId": "25cf3558-b276-48aa-cc01-00c1a09940cc"
      },
      "execution_count": null,
      "outputs": [
        {
          "output_type": "execute_result",
          "data": {
            "text/plain": [
              "(2, 5, 2, 2)"
            ]
          },
          "metadata": {},
          "execution_count": 65
        }
      ]
    },
    {
      "cell_type": "markdown",
      "source": [
        "#### Размерности"
      ],
      "metadata": {
        "id": "LoGz6xQFMmPw"
      }
    },
    {
      "cell_type": "markdown",
      "source": [
        "Что-то можем сделать, кайф. Теперь давайте поговорим про размерности, потому что с этим вы будете сталкиваться чаще всего и вообще не выкупать, а почему у меня ничего не перемножается, какие размерности надо etc (но чаще это будет в pandas)\n",
        "\n",
        "Базово:\n",
        "\n",
        "* shape - посмотреть размерности\n",
        "\n",
        "* reshape - привести к новым размерностям (работает как transpose - меняем strides)\n",
        "\n",
        "* ravel/flatten - приведи к одномерному массиву\n",
        "\n",
        "* newaxis - добавь размерность\n",
        "\n",
        "А теперь в деталях:"
      ],
      "metadata": {
        "id": "Ial6hDJdWXxO"
      }
    },
    {
      "cell_type": "code",
      "source": [
        "a = np.arange(28)\n",
        "print(a.shape) # размерность 28, логично\n",
        "print(a.reshape(2, -1).shape) #приведи к размеру 2 x 14 (-1 значит все остальное)\n",
        "# если новая размерность не влезает (то есть у вас 28 элементов, а вы хотите размер (3, 2, 5)), то выдаст ошибку\n",
        "print(a.reshape(3, 2, 5))"
      ],
      "metadata": {
        "colab": {
          "base_uri": "https://localhost:8080/"
        },
        "id": "FDdoQbAZW-pp",
        "outputId": "bb6b13a5-ddcd-4a83-bd2b-3b025e4385d5"
      },
      "execution_count": null,
      "outputs": [
        {
          "output_type": "stream",
          "name": "stdout",
          "text": [
            "(28,)\n",
            "(2, 14)\n"
          ]
        },
        {
          "output_type": "error",
          "ename": "ValueError",
          "evalue": "ignored",
          "traceback": [
            "\u001b[0;31m---------------------------------------------------------------------------\u001b[0m",
            "\u001b[0;31mValueError\u001b[0m                                Traceback (most recent call last)",
            "\u001b[0;32m<ipython-input-69-980c69e02250>\u001b[0m in \u001b[0;36m<module>\u001b[0;34m\u001b[0m\n\u001b[1;32m      3\u001b[0m \u001b[0mprint\u001b[0m\u001b[0;34m(\u001b[0m\u001b[0ma\u001b[0m\u001b[0;34m.\u001b[0m\u001b[0mreshape\u001b[0m\u001b[0;34m(\u001b[0m\u001b[0;36m2\u001b[0m\u001b[0;34m,\u001b[0m \u001b[0;34m-\u001b[0m\u001b[0;36m1\u001b[0m\u001b[0;34m)\u001b[0m\u001b[0;34m.\u001b[0m\u001b[0mshape\u001b[0m\u001b[0;34m)\u001b[0m \u001b[0;31m#приведи к размеру 2 x 14 (-1 значит все остальное)\u001b[0m\u001b[0;34m\u001b[0m\u001b[0;34m\u001b[0m\u001b[0m\n\u001b[1;32m      4\u001b[0m \u001b[0;31m# если новая размерность не влезает (то есть у вас 28 элементов, а вы хотите размер (3, 2, 5)), то выдаст ошибку\u001b[0m\u001b[0;34m\u001b[0m\u001b[0;34m\u001b[0m\u001b[0;34m\u001b[0m\u001b[0m\n\u001b[0;32m----> 5\u001b[0;31m \u001b[0mprint\u001b[0m\u001b[0;34m(\u001b[0m\u001b[0ma\u001b[0m\u001b[0;34m.\u001b[0m\u001b[0mreshape\u001b[0m\u001b[0;34m(\u001b[0m\u001b[0;36m3\u001b[0m\u001b[0;34m,\u001b[0m \u001b[0;36m2\u001b[0m\u001b[0;34m,\u001b[0m \u001b[0;36m5\u001b[0m\u001b[0;34m)\u001b[0m\u001b[0;34m)\u001b[0m\u001b[0;34m\u001b[0m\u001b[0;34m\u001b[0m\u001b[0m\n\u001b[0m",
            "\u001b[0;31mValueError\u001b[0m: cannot reshape array of size 28 into shape (3,2,5)"
          ]
        }
      ]
    },
    {
      "cell_type": "code",
      "source": [
        "a = a.reshape(2, -1) # сама по себе не меняет размерность\n",
        "print(a.flatten())\n",
        "print(a.ravel())"
      ],
      "metadata": {
        "colab": {
          "base_uri": "https://localhost:8080/"
        },
        "id": "hjs_UHrmXePu",
        "outputId": "7089a46f-ab95-462a-dcaf-c3448e32eade"
      },
      "execution_count": null,
      "outputs": [
        {
          "output_type": "stream",
          "name": "stdout",
          "text": [
            "[ 0  1  2  3  4  5  6  7  8  9 10 11 12 13 14 15 16 17 18 19 20 21 22 23\n",
            " 24 25 26 27]\n",
            "[ 0  1  2  3  4  5  6  7  8  9 10 11 12 13 14 15 16 17 18 19 20 21 22 23\n",
            " 24 25 26 27]\n"
          ]
        }
      ]
    },
    {
      "cell_type": "markdown",
      "source": [
        "Получаем одно и то же, но функции разные, в чем прикол?\n",
        "\n",
        "* flatten возвращает копию (то есть она независима от исходного массива)\n",
        "\n",
        "* ravel создает только view (то есть ссылку на origin), и если поменять в исходном массиве значение, то и в ravel оно изменится (имейте это ввиду)"
      ],
      "metadata": {
        "id": "ndkKA0JoYPKv"
      }
    },
    {
      "cell_type": "code",
      "source": [
        "a_f = a.flatten()\n",
        "a_r = a.ravel()\n",
        "a[0][0] = 1\n",
        "print(a_r) # изменилось, ух ты!"
      ],
      "metadata": {
        "colab": {
          "base_uri": "https://localhost:8080/"
        },
        "id": "74CZgyVKYfbq",
        "outputId": "ed3c7213-26a4-4150-d2c3-03cfbb71de00"
      },
      "execution_count": null,
      "outputs": [
        {
          "output_type": "stream",
          "name": "stdout",
          "text": [
            "[ 1  1  2  3  4  5  6  7  8  9 10 11 12 13 14 15 16 17 18 19 20 21 22 23\n",
            " 24 25 26 27]\n"
          ]
        }
      ]
    },
    {
      "cell_type": "markdown",
      "source": [
        "А теперь допустим, что нам нужно не уменьшить число размерностей, а наоборот, их добавить\n",
        "\n",
        "Это можно сделать с помощью newaxis!"
      ],
      "metadata": {
        "id": "LAv-Ge1RZRW1"
      }
    },
    {
      "cell_type": "code",
      "source": [
        "a = np.arange(28)\n",
        "a = a.reshape(2, -1)\n",
        "print(a.shape)\n",
        "a_new = a[:, np.newaxis, :] #указываем newaxis туда, куда нам нужно, : значит возьми все\n",
        "print(a_new.shape)\n",
        "a = a.reshape(2, 1, -1) #можно и сделать с помощью reshape\n",
        "print(a.shape)"
      ],
      "metadata": {
        "colab": {
          "base_uri": "https://localhost:8080/"
        },
        "id": "mBvM-wVxZggR",
        "outputId": "337e6ee4-3bb7-4ef8-91c8-1d1a5eda23c3"
      },
      "execution_count": null,
      "outputs": [
        {
          "output_type": "stream",
          "name": "stdout",
          "text": [
            "(2, 14)\n",
            "(2, 1, 14)\n",
            "(2, 1, 14)\n"
          ]
        }
      ]
    },
    {
      "cell_type": "markdown",
      "source": [
        "#### Соединения и добавления"
      ],
      "metadata": {
        "id": "xjkkSoFoMpEa"
      }
    },
    {
      "cell_type": "markdown",
      "source": [
        "Представим новую ситуацию: у вас есть два набора данных (допустим, за прошлую неделю и за текущую) и вы хотите их соединить их в единый набор данных\n",
        "\n",
        "Или же у вас одна половина данных лежит в одной, а другая в другой (скажем, есть карточка товара, в одном месте лежит вся информация про id, название etc, а в другом всякие web-счетчики: сколько посмотрели-покликали и так далее)\n",
        "\n",
        "Тогда на помощь приходят:\n",
        "\n",
        "* np.concatenate((arr1, arr2), axis) - соедини две таблицы по выбранному axis (по дефолту 0)\n",
        "\n",
        "* np.vstack((arr1, arr2)) - соедини две таблицы строчно (то есть друг под другом).То же самое, что и np.concatenate((arr1, arr2), axis=0)\n",
        "\n",
        "* np.hstack((arr1, arr2)) - соедини две таблицы по колонке (то есть arr1-arr2).То же самое, что и np.concatenate((arr1, arr2), axis=1)\n",
        "\n",
        "**Как и в перемножении матриц, размерности должны сходиться!**"
      ],
      "metadata": {
        "id": "QvVjkKE_M2AS"
      }
    },
    {
      "cell_type": "code",
      "source": [
        "a = np.array([[1, 2], [3, 4]])\n",
        "b = np.array([[5, 6], [7, 8]])\n",
        "\n",
        "print(np.vstack((a, b)))\n",
        "print(np.hstack((a, b)))\n",
        "print(np.concatenate((a, b), axis=0))\n",
        "print(np.concatenate((a, b), axis=1))"
      ],
      "metadata": {
        "id": "SEdhzLoJjyQS"
      },
      "execution_count": null,
      "outputs": []
    },
    {
      "cell_type": "markdown",
      "source": [
        "А если хотим добавить?\n",
        "\n",
        "* np.append(arr_1, arr_2, ..., arr_n, axis) - сделай append (если отдельно задаете axis, то размерности должны быть одинаковыми)\n",
        "\n",
        "* np.insert(arr, slice, value, axis) - добавь в arr в slice значение value по выбранному axis\n",
        "\n",
        "* np.resize(arr, (sizes)) - по сути reshape, но если получившийся итог получается больше, то заполняет остальное копией a (аккуратнее с этим, лучше не делать с матрицами)\n",
        "\n",
        "* arr.resize((sizes)) - reshape, если больше, то заполнит нулями (аккуратно с этим)"
      ],
      "metadata": {
        "id": "QHqYgNPSlWVk"
      }
    },
    {
      "cell_type": "code",
      "source": [
        "a = np.array([[1, 2], [3, 4]])\n",
        "b = np.array([[5, 6], [7, 8]])\n",
        "\n",
        "print(np.append(a, b))\n",
        "print('-' * 30)\n",
        "print(np.insert(a, 1, b, axis = 0))\n",
        "print('-' * 30)\n",
        "print(np.resize(a, (5, 2)))\n",
        "print('-' * 30)\n",
        "a.resize((1, 10), refcheck=False) ## refcheck - не проверяй на наличие ссылок (иначе упадет)\n",
        "print(a)\n",
        "print('-' * 30)\n",
        "a = np.array([[1, 2], [3, 4]])\n",
        "print(np.append(a, [1, 2]))"
      ],
      "metadata": {
        "colab": {
          "base_uri": "https://localhost:8080/"
        },
        "id": "64_Coh7hmQ7r",
        "outputId": "01cdef3f-fc93-49f0-ffb3-9e7efbe4658e"
      },
      "execution_count": null,
      "outputs": [
        {
          "output_type": "stream",
          "name": "stdout",
          "text": [
            "[1 2 3 4 5 6 7 8]\n",
            "------------------------------\n",
            "[[1 2]\n",
            " [5 6]\n",
            " [7 8]\n",
            " [3 4]]\n",
            "------------------------------\n",
            "[[1 2]\n",
            " [3 4]\n",
            " [1 2]\n",
            " [3 4]\n",
            " [1 2]]\n",
            "------------------------------\n",
            "[[1 2 3 4 0 0 0 0 0 0]]\n",
            "------------------------------\n",
            "[1 2 3 4 1 2]\n"
          ]
        }
      ]
    },
    {
      "cell_type": "markdown",
      "source": [
        "#### Сравнения"
      ],
      "metadata": {
        "id": "fROW7gayMrZ6"
      }
    },
    {
      "cell_type": "markdown",
      "source": [
        "Все, помучили наш массив как только можем, давайте теперь его как-то исследовать\n",
        "\n",
        "Допустим, теперь хотим что-то отфильтровать или посмотреть какие-то конкретные значения"
      ],
      "metadata": {
        "id": "TtpFfYGyoKuB"
      }
    },
    {
      "cell_type": "code",
      "source": [
        "a = np.arange(30)\n",
        "print(a[(a > 15) & (a < 27) | (a < 9)]) # как добавить несколько условий сразу через & и | (и/или)\n",
        "cond = (a > 15) & (a < 27) | (a < 9) # условия можно отдельно записывать, даст массив True-False\n",
        "print('-' * 30)\n",
        "print(a[cond])\n",
        "print(cond)"
      ],
      "metadata": {
        "colab": {
          "base_uri": "https://localhost:8080/"
        },
        "id": "-u2Ef8yOovqe",
        "outputId": "015c57b0-73eb-4cfd-8211-66eafded735c"
      },
      "execution_count": null,
      "outputs": [
        {
          "output_type": "stream",
          "name": "stdout",
          "text": [
            "[ 0  1  2  3  4  5  6  7  8 16 17 18 19 20 21 22 23 24 25 26]\n",
            "------------------------------\n",
            "[ 0  1  2  3  4  5  6  7  8 16 17 18 19 20 21 22 23 24 25 26]\n",
            "[ True  True  True  True  True  True  True  True  True False False False\n",
            " False False False False  True  True  True  True  True  True  True  True\n",
            "  True  True  True False False False]\n"
          ]
        }
      ]
    },
    {
      "cell_type": "code",
      "source": [
        "a = np.arange(30).reshape(5, -1)\n",
        "b = (np.arange(30) - 1).reshape(5, -1)\n",
        "b[0][0] = 15\n",
        "a > b #для таких сравнений должны быть одинаковые размерности"
      ],
      "metadata": {
        "colab": {
          "base_uri": "https://localhost:8080/"
        },
        "id": "Mdr7c8Ccpwe1",
        "outputId": "a651f95d-268d-4f09-ce1b-c9c48620d58f"
      },
      "execution_count": null,
      "outputs": [
        {
          "output_type": "execute_result",
          "data": {
            "text/plain": [
              "array([[False,  True,  True,  True,  True,  True],\n",
              "       [ True,  True,  True,  True,  True,  True],\n",
              "       [ True,  True,  True,  True,  True,  True],\n",
              "       [ True,  True,  True,  True,  True,  True],\n",
              "       [ True,  True,  True,  True,  True,  True]])"
            ]
          },
          "metadata": {},
          "execution_count": 53
        }
      ]
    },
    {
      "cell_type": "code",
      "source": [
        "print((a > b).all()) # проверить, все ли значения True\n",
        "print((a > b).any()) # првоерить, есть ли хотя бы одно True\n",
        "print(a[a > b]) # выведет одномерный массив\n",
        "print('-' * 30)\n",
        "print(a[a[:, 0] > [1, 1, 1, 1, 1]]) # можно сравнивать и вот так"
      ],
      "metadata": {
        "colab": {
          "base_uri": "https://localhost:8080/"
        },
        "id": "0kkaCxnpqIgM",
        "outputId": "ff80e4ee-03d0-4f57-9c78-31d75807ee39"
      },
      "execution_count": null,
      "outputs": [
        {
          "output_type": "stream",
          "name": "stdout",
          "text": [
            "False\n",
            "True\n",
            "[ 1  2  3  4  5  6  7  8  9 10 11 12 13 14 15 16 17 18 19 20 21 22 23 24\n",
            " 25 26 27 28 29]\n",
            "------------------------------\n",
            "[[ 6  7  8  9 10 11]\n",
            " [12 13 14 15 16 17]\n",
            " [18 19 20 21 22 23]\n",
            " [24 25 26 27 28 29]]\n"
          ]
        }
      ]
    },
    {
      "cell_type": "markdown",
      "source": [
        "Теперь хотим применить условие и что-то сделать со значениями (обрезать или поменять)\n",
        "\n",
        "Можно по старинке:"
      ],
      "metadata": {
        "id": "dEMMpVy2M5bj"
      }
    },
    {
      "cell_type": "code",
      "source": [
        "a = np.arange(30).reshape(5, -1)\n",
        "a[a > 0] = a[a > 0] * 5\n",
        "a"
      ],
      "metadata": {
        "colab": {
          "base_uri": "https://localhost:8080/"
        },
        "id": "0lK6jGe7q_ym",
        "outputId": "fea22c58-82b0-4ebc-b10c-f18b97108c2e"
      },
      "execution_count": null,
      "outputs": [
        {
          "output_type": "execute_result",
          "data": {
            "text/plain": [
              "array([[  0,   5,  10,  15,  20,  25],\n",
              "       [ 30,  35,  40,  45,  50,  55],\n",
              "       [ 60,  65,  70,  75,  80,  85],\n",
              "       [ 90,  95, 100, 105, 110, 115],\n",
              "       [120, 125, 130, 135, 140, 145]])"
            ]
          },
          "metadata": {},
          "execution_count": 66
        }
      ]
    },
    {
      "cell_type": "markdown",
      "source": [
        "Но можно и лучше!\n",
        "\n",
        "* np.where(cond, act_1, act_2) - измени значения в зависимости от условия (если True, то сделай одно, если False, то другое)\n",
        "\n",
        "* np.clip(arr, a_min, a_max) - ограничить значения (все, что меньше a_min, станет a_min, все, что больше a_max, станет a_max)\n",
        "\n",
        "Последнее нужно, например, для обработки картинок (допустим, вам пришли плохие данные, где есть значения не в пределах от 0 до 256)"
      ],
      "metadata": {
        "id": "GWqJNq7LrGGK"
      }
    },
    {
      "cell_type": "code",
      "source": [
        "a = np.arange(30).reshape(5, -1)\n",
        "a = np.where(a > 0, a * 5, a)\n",
        "print(a)\n",
        "print('-' * 30)\n",
        "a = np.clip(a, 10, 100)\n",
        "print(a)"
      ],
      "metadata": {
        "colab": {
          "base_uri": "https://localhost:8080/"
        },
        "id": "4f8TiFovrjUa",
        "outputId": "04b137ad-7af8-4e84-d027-f93fc883069a"
      },
      "execution_count": null,
      "outputs": [
        {
          "output_type": "stream",
          "name": "stdout",
          "text": [
            "[[  0   5  10  15  20  25]\n",
            " [ 30  35  40  45  50  55]\n",
            " [ 60  65  70  75  80  85]\n",
            " [ 90  95 100 105 110 115]\n",
            " [120 125 130 135 140 145]]\n",
            "------------------------------\n",
            "[[ 10  10  10  15  20  25]\n",
            " [ 30  35  40  45  50  55]\n",
            " [ 60  65  70  75  80  85]\n",
            " [ 90  95 100 100 100 100]\n",
            " [100 100 100 100 100 100]]\n"
          ]
        }
      ]
    },
    {
      "cell_type": "markdown",
      "source": [
        "#### Прочие полезные вещи"
      ],
      "metadata": {
        "id": "G_Ui0dquMvAK"
      }
    },
    {
      "cell_type": "markdown",
      "source": [
        "Все, теперь к полному анализу наших данных!\n",
        "\n",
        "![](https://i.gifer.com/embedded/download/3nHQ.gif)"
      ],
      "metadata": {
        "id": "fg8jl95GM8yr"
      }
    },
    {
      "cell_type": "markdown",
      "source": [
        "Что умеем?\n",
        "\n",
        "*   sum, mean, std, min, max, prod - классика (сумма, среднее, стандратное отклонение, минимум/максимум, произведение)\n",
        "\n",
        "*   argmin, argmax - найди индекс максимума/минимума (знаете же, что в Python так нельзя, а вот тут пожалуйста)\n",
        "\n",
        "* nonzero - вывести индексы ненулевых значений\n",
        "\n",
        "* sort, unique - сортировка, уникальные элементы\n",
        "\n",
        "* diag, trace - вывести диагональ, след матрицы (работает только для размерности < 3)\n",
        "\n",
        "* cumsum, cumprod - кумулятивы сумм-произведений\n",
        "\n",
        "* isnan, isinf, isposinf, isneginf - поиск \"плохих\" значений\n",
        "\n",
        "* nan_to_num(x, nan, posinf) - если где-то видим nan или inf, то можем его поменять на значение в nan или posinf\n",
        "\n"
      ],
      "metadata": {
        "id": "TRwulevltROp"
      }
    },
    {
      "cell_type": "code",
      "source": [
        "a = np.array([[[1, 2, 3], [4, 5 ,6], [7, 8, 9]], [[-np.inf, 2, 3], [4, np.nan ,6], [np.nan, 8, np.inf]]])\n",
        "print(np.argwhere(np.isnan(a)))\n",
        "print('-' * 30)\n",
        "print(np.argwhere(np.isinf(a)))\n",
        "print('-' * 30)\n",
        "print(np.argwhere(np.isposinf(a)))\n",
        "print('-' * 30)\n",
        "print(np.argwhere(np.isneginf(a)))\n",
        "print('-' * 30)"
      ],
      "metadata": {
        "colab": {
          "base_uri": "https://localhost:8080/"
        },
        "id": "PgeCAdAMu8zB",
        "outputId": "e53f9c5f-ec41-4d91-e08a-cf08eb6c3043"
      },
      "execution_count": null,
      "outputs": [
        {
          "output_type": "stream",
          "name": "stdout",
          "text": [
            "[[1 1 1]\n",
            " [1 2 0]]\n",
            "------------------------------\n",
            "[[1 0 0]\n",
            " [1 2 2]]\n",
            "------------------------------\n",
            "[[1 2 2]]\n",
            "------------------------------\n",
            "[[1 0 0]]\n",
            "------------------------------\n"
          ]
        }
      ]
    },
    {
      "cell_type": "code",
      "source": [
        "np.nan_to_num(a, copy=False, nan=0, posinf=999, neginf=-999)\n",
        "#очень часто у функций есть аргумент copy, то есть создавать новую копию или менять в исходном массиве\n",
        "print(a.sum()) # полная сумма\n",
        "print('-' * 30)\n",
        "print(a.sum(axis=0)) # сумма по оси\n",
        "print('-' * 30)\n",
        "print(a.std())"
      ],
      "metadata": {
        "colab": {
          "base_uri": "https://localhost:8080/"
        },
        "id": "obHK4ezmv40v",
        "outputId": "62ef94df-d6e8-431d-b782-4ea30d9a76f5"
      },
      "execution_count": null,
      "outputs": [
        {
          "output_type": "stream",
          "name": "stdout",
          "text": [
            "68.0\n",
            "------------------------------\n",
            "[[-998.    4.    6.]\n",
            " [   8.    5.   12.]\n",
            " [   7.   16. 1008.]]\n",
            "------------------------------\n",
            "333.01310544040416\n"
          ]
        }
      ]
    },
    {
      "cell_type": "code",
      "source": [
        "print(np.cumsum(a))\n",
        "print('-' * 30)\n",
        "print(np.cumprod(a)) #"
      ],
      "metadata": {
        "colab": {
          "base_uri": "https://localhost:8080/"
        },
        "id": "I7UIfrfFwyGX",
        "outputId": "5d936901-e413-4cc3-cebb-c20972144423"
      },
      "execution_count": null,
      "outputs": [
        {
          "output_type": "stream",
          "name": "stdout",
          "text": [
            "[   1.    3.    6.   10.   15.   21.   28.   36.   45. -954. -952. -949.\n",
            " -945. -945. -939. -939. -931.   68.]\n",
            "------------------------------\n",
            "[ 1.00000000e+00  2.00000000e+00  6.00000000e+00  2.40000000e+01\n",
            "  1.20000000e+02  7.20000000e+02  5.04000000e+03  4.03200000e+04\n",
            "  3.62880000e+05 -3.62517120e+08 -7.25034240e+08 -2.17510272e+09\n",
            " -8.70041088e+09 -0.00000000e+00 -0.00000000e+00 -0.00000000e+00\n",
            " -0.00000000e+00 -0.00000000e+00]\n"
          ]
        }
      ]
    },
    {
      "cell_type": "markdown",
      "source": [
        "#### Линейная алгебра (np.linalg)"
      ],
      "metadata": {
        "id": "h1pDMA1PNCgo"
      }
    },
    {
      "cell_type": "markdown",
      "source": [
        "Самый сильный инструмент внутри numpy - это модуль numpy.linalg, который позволяет применить кучу методов из линейной алгебры (например, сделать за вас тот же самый SVD)\n",
        "\n",
        "Из основного:\n",
        "\n",
        "* numpy.linalg.multi_dot - перемножение нескольких матриц сразу (причем выбирается самый быстрый способ перемножения)\n",
        "\n",
        "* np.vdot - скалярное произведение (не нужно делать .T  \n",
        "как минимум)\n",
        "\n",
        "* numpy.linalg.matrix_power - возвести матрицу в нужную степень\n",
        "\n",
        "* numpy.linalg.norm - матричная норма\n",
        "\n",
        "* numpy.linalg.det - определитель матрицы\n",
        "\n",
        "* numpy.linalg.inv - обратная матрица (если нет, то будет считать через pinv - псевдообратная матрица)\n",
        "\n",
        "* numpy.linalg.solve(a, b) - решить систему $ax = b$\n",
        "\n",
        "Разложения:\n",
        "\n",
        "* choletsky, qr, SVD - разложение Холецкого, QR-декомпозиция, SVD-разложение (можно сделать усеченным)\n",
        "\n",
        "* eig, eigvals - собственные вектор**Ы** и собственные значения\n"
      ],
      "metadata": {
        "id": "nJrwb_pIiIZK"
      }
    },
    {
      "cell_type": "code",
      "source": [
        "A = np.matrix([[1, 2, 3], [4, 5, 11], [7, 8, 10]])\n",
        "print(\"Определитель матрицы:\", lin.det(A))\n",
        "print('-' * 30)\n",
        "print(\"Обратная матрица:\", lin.inv(A))\n",
        "print('-' * 30)\n",
        "print(\"Третья степень матрицы:\", lin.matrix_power(A, 3))\n",
        "print('-' * 30)\n",
        "b = np.array([1, 2, 3])\n",
        "print(\"Решаем систему:\", lin.solve(A, b))\n",
        "print('-' * 30)\n",
        "c = np.array([1, 2, 3])\n",
        "print(\"Скалярное произведение:\", np.vdot(c, b))\n",
        "print('-' * 30)"
      ],
      "metadata": {
        "colab": {
          "base_uri": "https://localhost:8080/"
        },
        "id": "XTapKzFoAPf_",
        "outputId": "3e0891ba-d5f7-4629-b916-323dabdbb3c6"
      },
      "execution_count": null,
      "outputs": [
        {
          "output_type": "stream",
          "name": "stdout",
          "text": [
            "Определитель матрицы: 27.0\n",
            "------------------------------\n",
            "Обратная матрица: [[-1.40740741  0.14814815  0.25925926]\n",
            " [ 1.37037037 -0.40740741  0.03703704]\n",
            " [-0.11111111  0.22222222 -0.11111111]]\n",
            "------------------------------\n",
            "Третья степень матрицы: [[ 559  680 1036]\n",
            " [1824 2223 3404]\n",
            " [2108 2560 3891]]\n",
            "------------------------------\n",
            "Решаем систему: [-0.33333333  0.66666667  0.        ]\n",
            "------------------------------\n",
            "Скалярное произведение: 14\n",
            "------------------------------\n"
          ]
        }
      ]
    },
    {
      "cell_type": "code",
      "source": [
        "U, s, Vh = lin.svd(A)\n",
        "print(U)\n",
        "print('-' * 30)\n",
        "print(s)\n",
        "print('-' * 30)\n",
        "print(Vh)"
      ],
      "metadata": {
        "colab": {
          "base_uri": "https://localhost:8080/"
        },
        "id": "X9LuJ1XxBlO9",
        "outputId": "f863f7c0-1300-45bb-866d-2a8e0b53c635"
      },
      "execution_count": null,
      "outputs": [
        {
          "output_type": "stream",
          "name": "stdout",
          "text": [
            "[[-0.18951531 -0.10237519 -0.97652612]\n",
            " [-0.6434869  -0.73824699  0.20227702]\n",
            " [-0.74162562  0.66671636  0.07403202]]\n",
            "------------------------------\n",
            "[19.51894064  2.78648927  0.496421  ]\n",
            "------------------------------\n",
            "[[-0.40754477 -0.48821656 -0.77172006]\n",
            " [ 0.5783806   0.51597023 -0.63186281]\n",
            " [ 0.70667046 -0.70386029  0.07209402]]\n"
          ]
        }
      ]
    },
    {
      "cell_type": "code",
      "source": [
        "lin.eig(A)"
      ],
      "metadata": {
        "colab": {
          "base_uri": "https://localhost:8080/"
        },
        "id": "Ps9277glB-WO",
        "outputId": "4d09f4c7-5637-409f-bd8a-8be69245a4ef"
      },
      "execution_count": null,
      "outputs": [
        {
          "output_type": "execute_result",
          "data": {
            "text/plain": [
              "(array([18.83666805, -0.65787568, -2.17879237]),\n",
              " matrix([[-0.19655135, -0.61840136,  0.01695951],\n",
              "         [-0.64434967,  0.7673012 , -0.84013156],\n",
              "         [-0.73904064, -0.16978994,  0.54211746]]))"
            ]
          },
          "metadata": {},
          "execution_count": 111
        }
      ]
    },
    {
      "cell_type": "markdown",
      "source": [
        "#### Несколько полезных вещей"
      ],
      "metadata": {
        "id": "TWqAtKktyXYQ"
      }
    },
    {
      "cell_type": "markdown",
      "source": [
        "* np.meshgrid(x_{i}, indexing) - вернуть координатную сетку из координат $x_i$"
      ],
      "metadata": {
        "id": "M0VVwAKhyZ_C"
      }
    },
    {
      "cell_type": "code",
      "source": [
        "import matplotlib.pyplot as plt\n",
        "import numpy as np\n",
        "\n",
        "nx, ny = (3, 2)\n",
        "x = np.linspace(0, 1, nx)\n",
        "y = np.linspace(0, 1, ny)\n",
        "xv, yv = np.meshgrid(x, y)\n",
        "\n",
        "plt.plot(xv, yv, marker='o', color='k', linestyle='none')\n",
        "plt.show()"
      ],
      "metadata": {
        "colab": {
          "base_uri": "https://localhost:8080/",
          "height": 430
        },
        "id": "9Aou3YYwy5Jk",
        "outputId": "a43628ac-0ed8-4406-ae5e-90cb2e0d9c52"
      },
      "execution_count": 1,
      "outputs": [
        {
          "output_type": "display_data",
          "data": {
            "text/plain": [
              "<Figure size 640x480 with 1 Axes>"
            ],
            "image/png": "[encoded data removed]"
          },
          "metadata": {}
        }
      ]
    },
    {
      "cell_type": "code",
      "source": [
        "print(xv, '\\n', yv)"
      ],
      "metadata": {
        "colab": {
          "base_uri": "https://localhost:8080/"
        },
        "id": "YrUEfmdGzDTz",
        "outputId": "a3184163-0b2e-4913-f644-d1fda5276e68"
      },
      "execution_count": 3,
      "outputs": [
        {
          "output_type": "stream",
          "name": "stdout",
          "text": [
            "[[0.  0.5 1. ]\n",
            " [0.  0.5 1. ]] \n",
            " [[0. 0. 0.]\n",
            " [1. 1. 1.]]\n"
          ]
        }
      ]
    },
    {
      "cell_type": "markdown",
      "source": [
        "По существу - каждая точка имеет координаты, которые раскиданы в разных матрицах (по необходимой оси)"
      ],
      "metadata": {
        "id": "W8IzWg5IzJdH"
      }
    },
    {
      "cell_type": "markdown",
      "source": [
        "#### Конвенция Эйнштейна и ее сила"
      ],
      "metadata": {
        "id": "hAnnXPtdzWhN"
      }
    },
    {
      "cell_type": "markdown",
      "source": [
        "Но самая сильная вещь внутри numpy - это поддержка конвенции Эйнштейна и ее наглядное исполнение с помощью функции einsum()\n",
        "\n",
        "Что такое конвенция (или соглашение) Эйнштейна? Чаще всего оно используется в тензорах (тензор, если упрощать, это многомерный массив), которое облегчает форму записи.\n",
        "\n",
        "Попробуем в самом начале на примере, на основе которых мы поймем, что это такое:\n",
        "\n",
        "Дана матрица $A \\in \\mathbb{M}_{n x k}$ и $B \\in \\mathbb{M}_{k x m}$. Хотим перемножить и получить матрицу $C \\in \\mathbb{M}_{n x m}$\n",
        "\n",
        "Давайте запишем формулу, которая должна получать элемент $c_{ij}$:\n",
        "\n",
        "$$c_{ij} = \\sum_{k} a_{ik} b_{kj} $$\n",
        "\n",
        "Что здесь важно?\n",
        "\n",
        "1. Здесь есть свободные и фиктивные индексы. Свободный индекс - это не фиктивный индекс. Фиктивный индекс - это индекс, который входит в формулу дважды (в данном случае $k$ - фиктивный, его можно заменить на что угодно и смысл не изменится)\n",
        "\n",
        "2. Свободные индексы слева и справа одинаковые (и равны)\n",
        "\n",
        "Что предполагает соглашение Эйнштейна? По фиктивным индексам всегда происходит сложение, поэтому знак сумму смысла особого не имеет, мы можем его опустить и получить следующее:\n",
        "\n",
        "$$ c_{ij} = a_{ik} b_{kj} $$\n",
        "\n",
        "То есть суммирование само по себе предполагается. На самом деле тут есть еще один момент (уже для читабельности): фиктивный индекс вначале идет снизу, а потом сверху:\n",
        "\n",
        "$$c_{ij} = a_{ik}b^{k}_{j} $$"
      ],
      "metadata": {
        "id": "pxUldaBEzZYt"
      }
    },
    {
      "cell_type": "markdown",
      "source": [
        "Теперь непосредственно с einsum(). Функция поддерживает нотацию соглашения Эйнштейна в следующем виде (опять давайте для примера возьмем перемножение двух матриц):"
      ],
      "metadata": {
        "id": "tHDqBvtB2Ong"
      }
    },
    {
      "cell_type": "code",
      "source": [
        "m_1 = np.array([[1, 2], [3, 4], [5, 6]])\n",
        "m_2 = np.array([[7, 8], [9, 10]])\n",
        "\n",
        "np.einsum(\"ij,jk->ik\", m_1, m_2)"
      ],
      "metadata": {
        "colab": {
          "base_uri": "https://localhost:8080/"
        },
        "id": "NESHc_B72ajr",
        "outputId": "ff0d4656-25bf-4b93-b515-ebbf77e461bf"
      },
      "execution_count": 4,
      "outputs": [
        {
          "output_type": "execute_result",
          "data": {
            "text/plain": [
              "array([[ 25,  28],\n",
              "       [ 57,  64],\n",
              "       [ 89, 100]])"
            ]
          },
          "metadata": {},
          "execution_count": 4
        }
      ]
    },
    {
      "cell_type": "markdown",
      "source": [
        "Как читать нотацию?\n",
        "\n",
        "```\n",
        "indies for arguments -> result indices\n",
        "```\n",
        "\n",
        "То есть мы перечисляем индексы для каждой матрицы из указанных в аргументе (с учетом свободных и фиктивных) и далее получаете результат!\n",
        "\n",
        "Второй способ рассуждать: напишите for, который нам нужен, чтобы получить результат"
      ],
      "metadata": {
        "id": "9EeGStQT2rSX"
      }
    },
    {
      "cell_type": "code",
      "source": [
        "m_1 = np.array([[1, 2], [3, 4], [5, 6]])\n",
        "m_2 = np.array([[7, 8], [9, 10]])\n",
        "\n",
        "np.einsum(\"ij,jk->\", m_1, m_2) #Выведет сумму всех элементов"
      ],
      "metadata": {
        "colab": {
          "base_uri": "https://localhost:8080/"
        },
        "id": "Zb4opJEN3Fk2",
        "outputId": "db6b1d15-3972-4588-cb49-95bf13ee7c80"
      },
      "execution_count": 5,
      "outputs": [
        {
          "output_type": "execute_result",
          "data": {
            "text/plain": [
              "363"
            ]
          },
          "metadata": {},
          "execution_count": 5
        }
      ]
    },
    {
      "cell_type": "markdown",
      "source": [
        "Давайте попробуем сделать пару примеров:\n",
        "\n",
        "1. Найти сумму всех элементов\n",
        "\n",
        "2. Найти след матрицы\n",
        "\n",
        "3. Перемножить матрицу на вектор\n",
        "\n",
        "4. Поэлементное произведение"
      ],
      "metadata": {
        "id": "vDtj4nFL3QSa"
      }
    },
    {
      "cell_type": "code",
      "source": [
        "print(np.einsum(\"ij -> \", m_1))\n",
        "print(np.einsum(\"ii -> \", m_2))\n",
        "v = np.array([[0, 1]])\n",
        "print(np.einsum(\"ij,kj->ik\", m_1, v))\n",
        "print(np.einsum(\"ij,ij->ij\", m_1, m_1))"
      ],
      "metadata": {
        "colab": {
          "base_uri": "https://localhost:8080/"
        },
        "id": "m-AEAXm33gss",
        "outputId": "af941a8b-db25-4b7b-822d-ce03d07c4840"
      },
      "execution_count": 13,
      "outputs": [
        {
          "output_type": "stream",
          "name": "stdout",
          "text": [
            "21\n",
            "17\n",
            "[[2]\n",
            " [4]\n",
            " [6]]\n",
            "[[ 1  4]\n",
            " [ 9 16]\n",
            " [25 36]]\n"
          ]
        }
      ]
    },
    {
      "cell_type": "markdown",
      "source": [
        "#### Выгрузка"
      ],
      "metadata": {
        "id": "ikeGwjyZiGZx"
      }
    },
    {
      "cell_type": "markdown",
      "source": [
        "Ну все, потрудились, можно и результаты сохранить:\n",
        "\n",
        "* np.save(name, arr) -  сохранить файл с раширением .npy\n",
        "\n",
        "* np.savetxt(file, arr) - сохранить файл в txt"
      ],
      "metadata": {
        "id": "dD8UXVAYiI22"
      }
    },
    {
      "cell_type": "markdown",
      "source": [
        "## Scipy"
      ],
      "metadata": {
        "id": "WvHEHTUTpATC"
      }
    },
    {
      "cell_type": "markdown",
      "source": [
        "Scipy - это несколько специфичная библиотека для различных более математическиз вещей типа преобразований Фурье, интерполяций, оптимизаций etc. Вот там можно реально закопаться ([документация](https://docs.scipy.org/doc/scipy/reference/index.html#) в помощь)\n",
        "\n",
        "Но сегодня мы рассмотрим всего 2 библиотеки, которые вам могут встретиться чаще, чем обычно:\n",
        "\n",
        "* stats - распределения, статистики, корреляции, тесты и так далее\n",
        "\n",
        "* sparse - модуль для разреженных данных"
      ],
      "metadata": {
        "id": "an1pq95dNO7P"
      }
    },
    {
      "cell_type": "markdown",
      "source": [
        "### Stats"
      ],
      "metadata": {
        "id": "5sVsSSNEFczK"
      }
    },
    {
      "cell_type": "markdown",
      "source": [
        "В курсе по теории вероятности вы познакомитесь с огромным количеством разных распределений (Бернулли, Пуассона, нормальное, Коши, равномерное etc)\n",
        "\n",
        "Было бы круто, если бы была библиотека, которая может сэмлировать из таких распределений... 🤔🤔🤔\n",
        "\n",
        "А, подождите, для этого есть scipy.stats"
      ],
      "metadata": {
        "id": "EA_jCXEHR7h7"
      }
    },
    {
      "cell_type": "code",
      "source": [
        "n = st.norm(5, 1) # возьмем нормальное распределение со средним 5 и gamma = 1\n",
        "plt.hist(n.rvs(10000), bins=30) #.rvs - сгенерировать сэмпл\n",
        "plt.show() #ну, очень похоже на нормальное распределение"
      ],
      "metadata": {
        "colab": {
          "base_uri": "https://localhost:8080/"
        },
        "id": "VhF6LX7upCEC",
        "outputId": "bda04385-4476-42cc-de97-5942a5392057"
      },
      "execution_count": null,
      "outputs": [
        {
          "output_type": "display_data",
          "data": {
            "text/plain": [
              "<Figure size 432x288 with 1 Axes>"
            ],
            "image/png": "[encoded data removed]"
          },
          "metadata": {
            "needs_background": "light"
          }
        }
      ]
    },
    {
      "cell_type": "code",
      "source": [
        "x = np.linspace(0, 10, 1000)\n",
        "plt.plot(x, n.pdf(x)) #pdf - plot distribution function\n",
        "plt.show()"
      ],
      "metadata": {
        "colab": {
          "base_uri": "https://localhost:8080/"
        },
        "id": "YOSHikXEUgXx",
        "outputId": "3d6ea654-05b5-4bce-9367-0eb56cad5c25"
      },
      "execution_count": null,
      "outputs": [
        {
          "output_type": "display_data",
          "data": {
            "text/plain": [
              "<Figure size 432x288 with 1 Axes>"
            ],
            "image/png": "[encoded data removed]"
          },
          "metadata": {
            "needs_background": "light"
          }
        }
      ]
    },
    {
      "cell_type": "markdown",
      "source": [
        "Основное:\n",
        "\n",
        "* .rvs(size) - сгенерировать выборку нужного размера\n",
        "\n",
        "* .pdf(val) - значение плотности вероятности в данной точке\n",
        "\n",
        "* .ppf(perc) - квантили\n",
        "\n",
        "* .mean, .std, .var - среднее, стандратное отклонение, дисперсия\n"
      ],
      "metadata": {
        "id": "aEUDgMqCT3vc"
      }
    },
    {
      "cell_type": "code",
      "source": [
        "n = st.bernoulli(0.3) #распределение Бернулли с p = 0.3 (p - вероятность выпадения 1)\n",
        "n.rvs(1000).sum() #почти 30% выпадения 1"
      ],
      "metadata": {
        "colab": {
          "base_uri": "https://localhost:8080/"
        },
        "id": "JxELWf8BWEfl",
        "outputId": "54a7c0ba-1a64-4ac7-a16a-ba5696ce485a"
      },
      "execution_count": null,
      "outputs": [
        {
          "output_type": "execute_result",
          "data": {
            "text/plain": [
              "309"
            ]
          },
          "metadata": {},
          "execution_count": 148
        }
      ]
    },
    {
      "cell_type": "markdown",
      "source": [
        "На самом деле, сейчас это может быть не так важно и нужно, но как только вы перейдете к матстату и полному терверу, то сразу понятно станет, как же это удобно (мы с вами потренируемся с этим на семинаре на примере одного датасета)"
      ],
      "metadata": {
        "id": "q5wYB21KW1XX"
      }
    },
    {
      "cell_type": "markdown",
      "source": [
        "### Sparse"
      ],
      "metadata": {
        "id": "eMsTcc_-Fe-F"
      }
    },
    {
      "cell_type": "markdown",
      "source": [
        "Так или иначе, у вас может получиться разреженная матрица (то есть это матрица, где очень много нулей и лишь малое число ненулей). Хранить такую матрицу как она есть - это очень грустно с точки зрения памяти (мы храним кучу безполезной информации)\n",
        "\n",
        "Для этого и придумали sparse модуль. В чем особенность? Давайте хранить вместо самой матрицы ее размеры и места, где находятся ненулевые значения, а потом при взаимодействии это обрабатывать отдельно\n",
        "\n",
        "Модуль sparse очень хорошо работает с Numpy, так что в этом смысле никаких проблем нет, самое главное - если где-то получается что-то типа sparse матрицы, то в этом поможет именно Scipy"
      ],
      "metadata": {
        "id": "xm5wkYMTPYSR"
      }
    },
    {
      "cell_type": "code",
      "source": [
        "A = sp.lil_matrix((1000, 1000)) #создаем матрицу\n",
        "A[0, :100] = np.random.rand(100) # заполним рандомными значениями\n",
        "A[1, 100:200] = A[0, :100]\n",
        "A.setdiag(np.random.rand(1000)) #заполним диагонали, чтобы система была решаемой"
      ],
      "metadata": {
        "id": "hPSBvTf8FgiZ"
      },
      "execution_count": null,
      "outputs": []
    },
    {
      "cell_type": "code",
      "source": [
        "A = A.tocsr() # переводим в формат sparse матрицы A.to_array() - вернуть обратно в формат обычной матрицы\n",
        "b = np.random.rand(1000)\n",
        "x = sp.linalg.spsolve(A, b) #решаем уравенение\n",
        "x # получаем такое же решение, как и в случае обычных матриц, но храним меньше данных"
      ],
      "metadata": {
        "id": "8Jg1hX8oQopR"
      },
      "execution_count": null,
      "outputs": []
    },
    {
      "cell_type": "markdown",
      "source": [
        "## Попугай дня"
      ],
      "metadata": {
        "id": "U4V-1SQ78JUt"
      }
    },
    {
      "cell_type": "markdown",
      "source": [
        "![](https://mnogo-krolikov.ru/wp-content/uploads/2019/10/https-avatars-mds-yandex-net-get-pdb-877347-9092.jpeg)"
      ],
      "metadata": {
        "id": "Yz3iN4Op9S6a"
      }
    },
    {
      "cell_type": "markdown",
      "source": [
        "А это какапо, самый большой попугай на Земле. А еще он нелетающий (крылья у него есть, он с их помощью плюхается с деревьев иногда, но нет, он не умеет летать). Они очень забавные, приятно пахнут, и очень привыкают к людям :з\n",
        "\n",
        "Они ведут ночной образ жизни и по сути заменяли млекопитающих на островах Новой Зеландии, но из-за всяких кошек, горностаев и прочих животных, привезенных извне, был почти истреблен. Сейчас их всего 200 особей, которые обитают на специально изолированных островах\n",
        "\n",
        "Но хорошая новость в том, что за последние года их стало больше и они вполне неплохо себе живут :)"
      ],
      "metadata": {
        "id": "0xFoSJNi9Vaf"
      }
    }
  ]
}