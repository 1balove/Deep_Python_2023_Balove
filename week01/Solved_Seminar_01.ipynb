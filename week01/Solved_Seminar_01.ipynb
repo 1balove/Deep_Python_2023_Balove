{
  "nbformat": 4,
  "nbformat_minor": 0,
  "metadata": {
    "colab": {
      "provenance": [],
      "collapsed_sections": [
        "6ohKW4dvC-DS",
        "BU8o8XRYKw67",
        "j1tM_VXCyeBo",
        "5H76uMEtyjwk",
        "bu9tGUxbyolH",
        "G9S8nNmbJPhf"
      ]
    },
    "kernelspec": {
      "name": "python3",
      "display_name": "Python 3"
    },
    "language_info": {
      "name": "python"
    }
  },
  "cells": [
    {
      "cell_type": "markdown",
      "source": [
        "# Продвинутый Python, семинар 1\n",
        "\n",
        "**Лектор:** Петров Тимур\n",
        "\n",
        "**Семинаристы:** Петров Тимур, Бузаев Федор, Дешеулин Олег, Коган Александра\n",
        "\n",
        "**Spoiler Alert:** в рамках курса нельзя изучить ни одну из тем от и до досконально (к сожалению, на это требуется больше времени, чем даже 3 часа в неделю). Но мы попробуем рассказать столько, сколько возможно :)"
      ],
      "metadata": {
        "id": "x5dh5dV4DJFF"
      }
    },
    {
      "cell_type": "markdown",
      "source": [
        "Что нужно сделать?\n",
        "\n",
        "1. Зарегаться на гитхабе (если еще не сделали этого)"
      ],
      "metadata": {
        "id": "J38nIKObDNTU"
      }
    },
    {
      "cell_type": "markdown",
      "source": [
        "## Bash"
      ],
      "metadata": {
        "id": "Mk42UnNiDU1L"
      }
    },
    {
      "cell_type": "markdown",
      "source": [
        "С помощью командной строки можно осуществлять огромное количество вещей (и даже писать скрипты)! В целом этот базовый инструмент нужно знать\n",
        "\n",
        "Основные команды, которые точно стоит знать:\n",
        "\n",
        "* ssh - попасть на машинку (если работаем удаленно)\n",
        "* cd - навигация по папкам\n",
        "* cp/mv/mkdir/rm - манипуляции с файлами (copy, move, make directory, remove)\n",
        "* ls - посмотреть, что вокруг\n",
        "* cat - превью содержимого\n",
        "* grep - поиск по файлам\n",
        "* echo - вывести содержимое (переменной, строки)\n",
        "* sudo - стать богом\n",
        "* htop - понять, что с ресурсами\n",
        "* kill - убить процесс\n",
        "* chmod - изменить доступы\n",
        "\n",
        "Давайте попробуем вызвать некоторые из этих функций (а также посмотрим на некоторые флаги, которые можно использовать)\n",
        "\n",
        "Важный момент: обращение к терминалу доступно также из Colab (поскольку любой ноутбук выполняется на какой-либо машинке). Чтобы в Colab обратиться через терминал, в начале строки надо написать !\n",
        "\n",
        "Или же запустить терминал просто с помощью !bash"
      ],
      "metadata": {
        "id": "dQdsAp3bDV6U"
      }
    },
    {
      "cell_type": "code",
      "execution_count": 1,
      "metadata": {
        "colab": {
          "base_uri": "https://localhost:8080/"
        },
        "id": "zlXFXQQiDCMI",
        "outputId": "672f2409-7111-4c35-ca03-3bb4009c521a"
      },
      "outputs": [
        {
          "output_type": "stream",
          "name": "stdout",
          "text": [
            "sample_data\n",
            "-----\n",
            "total 4\n",
            "drwxr-xr-x 1 root root 4096 Sep  8 13:24 sample_data\n",
            "-----\n",
            "total 16\n",
            "drwxr-xr-x 1 root root 4096 Sep  8 13:24 .\n",
            "drwxr-xr-x 1 root root 4096 Sep 11 21:02 ..\n",
            "drwxr-xr-x 4 root root 4096 Sep  8 13:23 .config\n",
            "drwxr-xr-x 1 root root 4096 Sep  8 13:24 sample_data\n"
          ]
        }
      ],
      "source": [
        "!ls #посмотреть, что лежит вокруг\n",
        "!echo '-----' #добавим разграничитель\n",
        "!ls -l #посмотреть, что вокруг более подробно (причем мы видим явно не все)\n",
        "!echo '-----'\n",
        "!ls -la #посмотреть все, что лежит вокруг (теперь видим все)"
      ]
    },
    {
      "cell_type": "markdown",
      "source": [
        "Можно ли делать несколько запросов за один подход? Конечно можно! С помощью символа ; (он объединяет несколько запросов и делает каждый по очереди)"
      ],
      "metadata": {
        "id": "CxnQxpI9DrnN"
      }
    },
    {
      "cell_type": "code",
      "source": [
        "!mkdir B ; ls -la B #порядок всегда идет как команда-флаги-остальное"
      ],
      "metadata": {
        "colab": {
          "base_uri": "https://localhost:8080/"
        },
        "id": "6sWuXsihDt6R",
        "outputId": "eae18b92-eddd-4121-f282-cfcd7f8b1d66"
      },
      "execution_count": 2,
      "outputs": [
        {
          "output_type": "stream",
          "name": "stdout",
          "text": [
            "total 8\n",
            "drwxr-xr-x 2 root root 4096 Sep 11 21:03 .\n",
            "drwxr-xr-x 1 root root 4096 Sep 11 21:03 ..\n"
          ]
        }
      ]
    },
    {
      "cell_type": "markdown",
      "source": [
        "И можно даже больше!\n",
        "\n",
        "* \"|\" - объединить команды в один конвейер (то есть взять результат выполнения и перекинуть в качестве аргумента следующей команды)\n",
        "\n",
        "* \">\" - записать значение в файл (при этом если файл существовал, то данные оттуда будут убраны)\n",
        "\n",
        "* \">>\" - записать/добавить значений в файл"
      ],
      "metadata": {
        "id": "mOgvdP21DvfO"
      }
    },
    {
      "cell_type": "code",
      "source": [
        "!date > today.txt; cat today.txt\n",
        "!echo '----'\n",
        "!echo \"Hi\" > today.txt; cat today.txt\n",
        "!echo '----'\n",
        "!date >> today.txt; cat today.txt"
      ],
      "metadata": {
        "colab": {
          "base_uri": "https://localhost:8080/"
        },
        "id": "6BzUFCtEDxIr",
        "outputId": "9f5ddf42-9ef8-45e0-e56c-a0fda5c76c22"
      },
      "execution_count": 3,
      "outputs": [
        {
          "output_type": "stream",
          "name": "stdout",
          "text": [
            "Mon Sep 11 09:04:18 PM UTC 2023\n",
            "----\n",
            "Hi\n",
            "----\n",
            "Hi\n",
            "Mon Sep 11 09:04:18 PM UTC 2023\n"
          ]
        }
      ]
    },
    {
      "cell_type": "markdown",
      "source": [
        "Для команд cp/mv последовательность идет как:\n",
        "\n",
        "**cp file_1 dir_1** - копировать file_1 в папку dir_1\n",
        "\n",
        "**mv file_1 dir_1** - перемести file_1 в папку dir_1\n",
        "\n",
        "Что важно? Обязательно надо указывать путь к файлу из того места, где вы находитесь. То есть если мы находимся в папке sample_data и хотим перенести файл из другой папки B, то это будет выглядеть как (точка - обозначение места, где мы находимся)\n",
        "\n",
        "```\n",
        "    mv ../B/file.txt .\n",
        "```"
      ],
      "metadata": {
        "id": "ApbqU9MUD8qj"
      }
    },
    {
      "cell_type": "markdown",
      "source": [
        "### Задание 1\n",
        "\n",
        "Создать папку \"My directory\", внутри нее создать файл \"Fine.txt\" c текстом \"Hello World!\" и перенести этот файл в папку sample_data и проверить, что мы действительно ее перенесли и удалить этот файл и папку (все в одном запросе)"
      ],
      "metadata": {
        "id": "KGK-YAbKD-87"
      }
    },
    {
      "cell_type": "code",
      "source": [
        "!mkdir My\\ directory; ls -la; cd 'My directory'; echo \"Hello World!\" > Fine.txt; mv Fine.txt ../sample_data; cd ../sample_data; ls -la"
      ],
      "metadata": {
        "colab": {
          "base_uri": "https://localhost:8080/"
        },
        "id": "zHrJgG1eD9M-",
        "outputId": "ff3c71d1-410b-469a-b0d7-816670cf3b2c"
      },
      "execution_count": 1,
      "outputs": [
        {
          "output_type": "stream",
          "name": "stdout",
          "text": [
            "total 20\n",
            "drwxr-xr-x 1 root root 4096 Sep 11 21:11  .\n",
            "drwxr-xr-x 1 root root 4096 Sep 11 21:02  ..\n",
            "drwxr-xr-x 4 root root 4096 Sep  8 13:23  .config\n",
            "drwxr-xr-x 2 root root 4096 Sep 11 21:11 'My directory'\n",
            "drwxr-xr-x 1 root root 4096 Sep  8 13:24  sample_data\n",
            "total 55520\n",
            "drwxr-xr-x 1 root root     4096 Sep 11 21:11 .\n",
            "drwxr-xr-x 1 root root     4096 Sep 11 21:11 ..\n",
            "-rwxr-xr-x 1 root root     1697 Jan  1  2000 anscombe.json\n",
            "-rw-r--r-- 1 root root   301141 Sep  8 13:24 california_housing_test.csv\n",
            "-rw-r--r-- 1 root root  1706430 Sep  8 13:24 california_housing_train.csv\n",
            "-rw-r--r-- 1 root root       13 Sep 11 21:11 Fine.txt\n",
            "-rw-r--r-- 1 root root 18289443 Sep  8 13:24 mnist_test.csv\n",
            "-rw-r--r-- 1 root root 36523880 Sep  8 13:24 mnist_train_small.csv\n",
            "-rwxr-xr-x 1 root root      930 Jan  1  2000 README.md\n"
          ]
        }
      ]
    },
    {
      "cell_type": "markdown",
      "metadata": {
        "id": "jo_zHjSayPp_"
      },
      "source": [
        "### Едем дальше"
      ]
    },
    {
      "cell_type": "markdown",
      "metadata": {
        "id": "wjt7KhR3jHRo"
      },
      "source": [
        "Очевидно, что люди не дураки и написали документацию ко всем командам (их можно посмотреть через man). Причем man - это не только документация по утилитам команд, это также и документация по функциях С"
      ]
    },
    {
      "cell_type": "code",
      "execution_count": null,
      "metadata": {
        "id": "8GttksSdJQ8R"
      },
      "outputs": [],
      "source": [
        "!man -k . | grep printf"
      ]
    },
    {
      "cell_type": "code",
      "execution_count": null,
      "metadata": {
        "id": "KzOEPx1ZjRux"
      },
      "outputs": [],
      "source": [
        "!man ls"
      ]
    },
    {
      "cell_type": "markdown",
      "metadata": {
        "id": "WNz1sTgsvtrf"
      },
      "source": [
        "Помимо этого есть возможность открыть графические интерфейсы:\n",
        "\n",
        "* nano - более простой\n",
        "\n",
        "* vim - более крутой"
      ]
    },
    {
      "cell_type": "markdown",
      "metadata": {
        "id": "1aeRCYLWwsqz"
      },
      "source": [
        "![мем](https://cdn.devdojo.com/fun/February2018/using-vim.png?w=1280&amp;w=720)"
      ]
    },
    {
      "cell_type": "markdown",
      "metadata": {
        "id": "OFNVNSZ7z-aj"
      },
      "source": [
        "И в целом есть огромное число вещей, которые можно узнать с помощью командной строки:"
      ]
    },
    {
      "cell_type": "code",
      "execution_count": null,
      "metadata": {
        "id": "QMVHtFdZ0EQs"
      },
      "outputs": [],
      "source": [
        "!hostname -I ##вычислить себя по IP\n",
        "!echo '-----'\n",
        "!cat /etc/*-release ##узнать, что за система"
      ]
    },
    {
      "cell_type": "markdown",
      "metadata": {
        "id": "W12oqq8zhc7k"
      },
      "source": [
        "Есть также глобальные переменные (которые можно также и задавать с помощью $)\n",
        "\n",
        "Часть уже имеющихся глобальных переменных:\n",
        "\n",
        "* $PATH - путь поиска программ\n",
        "\n",
        "* $HOSTNAME - ваш hostname\n",
        "\n",
        "* $HOSTTYPE - архитектура машины\n",
        "\n",
        "* $OSTYPE - тип OS\n",
        "\n",
        "* $SECONDS - время работы скрипта (в секундах)\n",
        "\n",
        "* $HOME - домашний каталог пользователя\n",
        "\n",
        "* $LC_CTYPE - кодировка"
      ]
    },
    {
      "cell_type": "code",
      "execution_count": null,
      "metadata": {
        "id": "LtupWA-10jbK"
      },
      "outputs": [],
      "source": [
        "!echo $HOSTNAME\n",
        "!echo '-----'\n",
        "!echo $HOME"
      ]
    },
    {
      "cell_type": "markdown",
      "metadata": {
        "id": "lT31klSavnEy"
      },
      "source": [
        "Но самый главный сок всего этого - это, конечно же, написание скриптов! Ведь если вам надо написать что-то сложнее записи строчки в файл или же вам нужно часто запускать один и тот же процесс, вы же не будете это все ручками делать?\n",
        "\n",
        "Вот для того и нужны скрипты!"
      ]
    },
    {
      "cell_type": "markdown",
      "metadata": {
        "id": "pGzAP9eKLD6u"
      },
      "source": [
        "### Как перестать бояться и полюбить ~атомную бомбу~ bash скрипты"
      ]
    },
    {
      "cell_type": "markdown",
      "metadata": {
        "id": "5iCCqDlJLyLT"
      },
      "source": [
        "Первое, что надо понять - а как сделать так, чтобы наш скрипт запустился и отработал? Для начала поняь, а где все-таки bash"
      ]
    },
    {
      "cell_type": "code",
      "execution_count": null,
      "metadata": {
        "id": "eo7DbSOW1ybw"
      },
      "outputs": [],
      "source": [
        "!whereis bash"
      ]
    },
    {
      "cell_type": "markdown",
      "metadata": {
        "id": "oQzpQJUQL5PU"
      },
      "source": [
        "Далее мы создаем файл (расширение в целом любое, даже простой txt сойдет, но обычно делаем расширение sh), где в первой строке прописываем, по сути, с помощью чего интерпретировать и выполнять скрипт\n",
        "\n",
        "Это необходимо для того, чтобы вне зависимости от того, на чем вы запускаете код, поведение было одинаковым\n",
        "\n",
        "Делается это с помощью шебанга: #! <интерпретатор>"
      ]
    },
    {
      "cell_type": "markdown",
      "metadata": {
        "id": "irkcUgWmOiCw"
      },
      "source": [
        "Для того, чтобы осознать, что это стоит делать, давайте попробуем создать файл с расширением txt с кодом на Python и запустить его:"
      ]
    },
    {
      "cell_type": "code",
      "execution_count": null,
      "metadata": {
        "id": "KasNQWmgOseE"
      },
      "outputs": [],
      "source": [
        "!echo \"print('Hello World!')\" > sample.txt\n",
        "!chmod +x sample.txt ##добавляем права на исполнение\n",
        "!./sample.txt"
      ]
    },
    {
      "cell_type": "markdown",
      "metadata": {
        "id": "hyGF5LnSO2jj"
      },
      "source": [
        "Пытается применить другой интерпретатор (чаще всего по дефолту это bash, но это можно перенастроить) - не получилось, не фартануло\n",
        "\n",
        "Теперь добавим шебанг с интерпретатором Python 3:"
      ]
    },
    {
      "cell_type": "code",
      "execution_count": null,
      "metadata": {
        "id": "aOKSl58ZPFTj"
      },
      "outputs": [],
      "source": [
        "!whereis python3"
      ]
    },
    {
      "cell_type": "code",
      "execution_count": null,
      "metadata": {
        "id": "LpVBybDUMOIB"
      },
      "outputs": [],
      "source": [
        "!echo \"#!/usr/bin/python3\" > sample.txt;\n",
        "!echo \"print('Hello World!')\" >> sample.txt\n",
        "!chmod +x sample.txt\n",
        "!./sample.txt"
      ]
    },
    {
      "cell_type": "markdown",
      "metadata": {
        "id": "dSRkShqYPJMu"
      },
      "source": [
        "Ура! Сразу же все получилось, ровно для этого и нужен шебанг - зафиксировать, как интерпретировать (и как видите, код на Python можно даже из txt запустить, хотя казалось бы)\n",
        "\n",
        "Кайф! Давайте попробуем написать простой скрипт, с помощью которого можно узнать, в какой папке находимся и какой мы пользователь\n",
        "\n",
        "Еще одно удобство Colab: код скрипта можно писать в клетке с помощью magic штуки %%shell (если хотите написать скрипт, а потом его сохранить, то надо просто поменять %%shell на %%writefile <название>.sh)"
      ]
    },
    {
      "cell_type": "code",
      "execution_count": null,
      "metadata": {
        "id": "abTSzp2gP2cS"
      },
      "outputs": [],
      "source": [
        "%%writefile script.sh\n",
        "\n",
        "#!/bin/bash\n",
        "echo \"The current directory is:\"\n",
        "pwd\n",
        "echo \"The user logged in is:\"\n",
        "whoami"
      ]
    },
    {
      "cell_type": "code",
      "execution_count": null,
      "metadata": {
        "id": "FpXg0X1TRAdP"
      },
      "outputs": [],
      "source": [
        "!chmod +x script.sh\n",
        "!./script.sh"
      ]
    },
    {
      "cell_type": "markdown",
      "metadata": {
        "id": "r8Gf26o3Qhl1"
      },
      "source": [
        "Ура! Написали с вами первый скрипт 🎉🎉🎉\n",
        "\n",
        "Теперь усложним задачу: хотим использовать переменные (а потом еще и аргументы джля скрипта вводить)\n",
        "\n",
        "Есть глобальные переменные (о которых мы уже говорили), а внутри скрипта можно еще передавать аргументы и вводить свои собственные переменные\n",
        "\n",
        "Давайте попробуем вывести домашний каталог и ввести число, прибавить к нему переменную 5 и вывести"
      ]
    },
    {
      "cell_type": "code",
      "execution_count": null,
      "metadata": {
        "id": "KgzJqSKaR2kU"
      },
      "outputs": [],
      "source": [
        "%%writefile script.sh\n",
        "\n",
        "#!/bin/bash\n",
        "echo \"The home directory is: $HOME\"\n",
        "#обращаем внимание, что надо писать в двойных кавычках, если в одинарных - не прочтет\n",
        "v=5\n",
        "# тут нельзя ставить пробелы, иначе bash будет пытаться это воспринять как команду\n",
        "echo \"Adding $v and $1, result $(( $v + $1 ))\" #с помощью $(()) выполняются арифметические операции\n",
        "mydir=$(pwd)\n",
        "# также в качестве переменной можно записать выполнение команды через $()\n",
        "echo \"Our directory: $mydir\"\n",
        "chmod +x $0"
      ]
    },
    {
      "cell_type": "code",
      "execution_count": null,
      "metadata": {
        "id": "1-blluqtS2Yk"
      },
      "outputs": [],
      "source": [
        "!./script.sh 3 ## в скрипте $0 - это параметр-название (script.sh), а $1 - переменная, которую мы подаем на вход"
      ]
    },
    {
      "cell_type": "markdown",
      "metadata": {
        "id": "DUEGKLTDVIlI"
      },
      "source": [
        "На самом деле писать внутри скриптов есть неограниченный потенциал с точки зрения программирования:\n",
        "\n",
        "* Создание функций\n",
        "\n",
        "* Ввод и вывод (через известные > и >>, а также ввод через < даже из файла)\n",
        "\n",
        "* Условные операторы и циклы (и continue с break, куда же без слома логики)\n",
        "\n",
        "* Регулярные выражения\n",
        "\n",
        "* Шедулер\n",
        "\n",
        "* И еще кучу всего (полный список даже не войдет)\n",
        "\n",
        "Понятное дело, что вы не будете писать какой-нибудь код, который можно спокойно воспроизвести на Python (а в чем цель курса - показать, что Python может практически все), однако многие вещи, где необходимо взаимодействовать с процессами на машинке, гораздо быстрее осуществить на bash (и по времени это будет явно быстрее, чем в Python, все-таки он медленный), записав скрипт, поставив шедулер на выполнение, если нужно и отправить на машинку, которая будет это делать\n",
        "\n",
        "В качестве реального кейса: отправка e-mail от робота каждый день по списку адресов"
      ]
    },
    {
      "cell_type": "markdown",
      "metadata": {
        "id": "6ohKW4dvC-DS"
      },
      "source": [
        "## Git\n",
        "\n",
        "Погрузимся в git чуть-чуть больше"
      ]
    },
    {
      "cell_type": "markdown",
      "metadata": {
        "id": "BU8o8XRYKw67"
      },
      "source": [
        "### Начнем с основы, так сказать, базы"
      ]
    },
    {
      "cell_type": "code",
      "execution_count": null,
      "metadata": {
        "id": "6vhOy4otMEAO"
      },
      "outputs": [],
      "source": [
        "!git clone https://github.com/Palladain/Deep_Python_2023 Deep_Python"
      ]
    },
    {
      "cell_type": "code",
      "execution_count": null,
      "metadata": {
        "id": "VEeWZ6UKMXeh"
      },
      "outputs": [],
      "source": [
        "!ls; cd Deep_Python; ls -la"
      ]
    },
    {
      "cell_type": "code",
      "execution_count": null,
      "metadata": {
        "id": "fdoj3QyzPsWC"
      },
      "outputs": [],
      "source": [
        "!cd Deep_Python; echo \"Hello world!\" >> Hello.txt; git status"
      ]
    },
    {
      "cell_type": "code",
      "execution_count": null,
      "metadata": {
        "colab": {
          "base_uri": "https://localhost:8080/"
        },
        "id": "amYshoh1P54o",
        "outputId": "ce3a367e-9b4f-40e7-ad3a-698382362956"
      },
      "outputs": [
        {
          "name": "stdout",
          "output_type": "stream",
          "text": [
            "On branch master\n",
            "\n",
            "No commits yet\n",
            "\n",
            "Changes to be committed:\n",
            "  (use \"git rm --cached <file>...\" to unstage)\n",
            "\n",
            "\t\u001b[32mnew file:   Hello.txt\u001b[m\n",
            "\n"
          ]
        }
      ],
      "source": [
        "!cd Deep_Python; git add Hello.txt; git status"
      ]
    },
    {
      "cell_type": "markdown",
      "metadata": {
        "id": "wdtyDVIGQA-v"
      },
      "source": [
        "Можно также смотреть изменения по файлам (что поменяли по сравнению с текущей версией):"
      ]
    },
    {
      "cell_type": "code",
      "execution_count": null,
      "metadata": {
        "colab": {
          "base_uri": "https://localhost:8080/"
        },
        "id": "e9Zok8fwQGXY",
        "outputId": "f92d0b14-00c1-40db-8257-c0864d07575e"
      },
      "outputs": [
        {
          "name": "stdout",
          "output_type": "stream",
          "text": [
            "\u001b[1mdiff --git a/Hello.txt b/Hello.txt\u001b[m\n",
            "\u001b[1mindex cd08755..b6b4373 100644\u001b[m\n",
            "\u001b[1m--- a/Hello.txt\u001b[m\n",
            "\u001b[1m+++ b/Hello.txt\u001b[m\n",
            "\u001b[36m@@ -1 +1,2 @@\u001b[m\n",
            " Hello world!\u001b[m\n",
            "\u001b[32m+\u001b[m\u001b[32mahah\u001b[m\n",
            "\u001b[1mdiff --git a/Hello.txt b/Hello.txt\u001b[m\n",
            "\u001b[1mnew file mode 100644\u001b[m\n",
            "\u001b[1mindex 0000000..b6b4373\u001b[m\n",
            "\u001b[1m--- /dev/null\u001b[m\n",
            "\u001b[1m+++ b/Hello.txt\u001b[m\n",
            "\u001b[36m@@ -0,0 +1,2 @@\u001b[m\n",
            "\u001b[32m+\u001b[m\u001b[32mHello world!\u001b[m\n",
            "\u001b[32m+\u001b[m\u001b[32mahah\u001b[m\n"
          ]
        }
      ],
      "source": [
        "!cd Deep_Python; echo \"ahah\" >> Hello.txt\n",
        "!cd Deep_Python; git diff; git add Hello.txt\n",
        "!cd Deep_Python; git diff --staged ##сравним изменения просто с последним коммитом (на данный момент с пустотой)"
      ]
    },
    {
      "cell_type": "markdown",
      "metadata": {
        "id": "j1tM_VXCyeBo"
      },
      "source": [
        "### Делаем коммиты"
      ]
    },
    {
      "cell_type": "markdown",
      "metadata": {
        "id": "m6r9kRghSCa9"
      },
      "source": [
        "Ура, можем делать коммит! Делается просто и незатейливо с помощью комманды\n",
        "\n",
        "```\n",
        "git commit\n",
        "```"
      ]
    },
    {
      "cell_type": "code",
      "execution_count": null,
      "metadata": {
        "id": "h9JSpXaZC-DX"
      },
      "outputs": [],
      "source": [
        "!cd Deep_Python; git config user.email \"you@example.com\"\n",
        "!cd Deep_Python; git config user.name \"Your Name\""
      ]
    },
    {
      "cell_type": "code",
      "execution_count": null,
      "metadata": {
        "colab": {
          "base_uri": "https://localhost:8080/"
        },
        "id": "EKVJ5OLuSKil",
        "outputId": "c778eef8-8f70-4d7b-b59d-04605ddab256"
      },
      "outputs": [
        {
          "name": "stdout",
          "output_type": "stream",
          "text": [
            "[master (root-commit) 6bf4ac9] First version\n",
            " 1 file changed, 2 insertions(+)\n",
            " create mode 100644 Hello.txt\n"
          ]
        }
      ],
      "source": [
        "!cd Deep_Python; git commit -m \"First version\" ##-m - добавить сообщения к коммиту"
      ]
    },
    {
      "cell_type": "markdown",
      "metadata": {
        "id": "nAPtgdsnStPg"
      },
      "source": [
        "Но люди не идиоты, чтобы постоянно руками все добавлять, верно ведь? Для этого есть в commit флаг -a (добавь все изменения, но только для tracked файлов)"
      ]
    },
    {
      "cell_type": "code",
      "execution_count": null,
      "metadata": {
        "colab": {
          "base_uri": "https://localhost:8080/"
        },
        "id": "iIfa4ToYS8sK",
        "outputId": "a4cdbe10-a6cf-4c6a-90bc-fee1f3cce304"
      },
      "outputs": [
        {
          "name": "stdout",
          "output_type": "stream",
          "text": [
            "[master 6ca26ba] Second version\n",
            " 1 file changed, 1 insertion(+)\n"
          ]
        }
      ],
      "source": [
        "!cd Deep_Python; echo \"New_version\" >> Hello.txt\n",
        "!cd Deep_Python; git commit -a -m \"Second version\""
      ]
    },
    {
      "cell_type": "code",
      "execution_count": null,
      "metadata": {
        "colab": {
          "base_uri": "https://localhost:8080/"
        },
        "id": "KetPr2CqTxFX",
        "outputId": "99652d73-00ab-480e-9b42-3268a3999095"
      },
      "outputs": [
        {
          "name": "stdout",
          "output_type": "stream",
          "text": [
            "On branch master\n",
            "Untracked files:\n",
            "\t\u001b[31mHello_new.txt\u001b[m\n",
            "\n",
            "nothing added to commit but untracked files present\n"
          ]
        }
      ],
      "source": [
        "!cd Deep_Python; echo \"New_version\" >> Hello_new.txt\n",
        "!cd Deep_Python; git commit -a -m \"Third version\""
      ]
    },
    {
      "cell_type": "markdown",
      "metadata": {
        "id": "0pBFtXfGVclY"
      },
      "source": [
        "Можем также посмотреть историю всего того, что произошло:"
      ]
    },
    {
      "cell_type": "code",
      "execution_count": null,
      "metadata": {
        "id": "oXyGVe6SUaQH"
      },
      "outputs": [],
      "source": [
        "!cd Deep_Python; git log --pretty=oneline ##флаг, чтобы не видеть детально всю историю, а сократить ее до самого важного (можно кастомизировать)"
      ]
    },
    {
      "cell_type": "code",
      "execution_count": null,
      "metadata": {
        "id": "jGWH6PVGWD4x"
      },
      "outputs": [],
      "source": [
        "!cd Deep_Python; git log --pretty=oneline --graph ##добавить граф изменений (но у нас нет ветвей пока что)"
      ]
    },
    {
      "cell_type": "markdown",
      "metadata": {
        "id": "TwefKt-enV5G"
      },
      "source": [
        "Ура, разобрались как делать коммиты. А допустим, что мы сделали плохой коммит (или что-то забыли), можно ли откатить плиз?\n",
        "\n",
        "Конечно можно!"
      ]
    },
    {
      "cell_type": "code",
      "execution_count": null,
      "metadata": {
        "id": "C2ZQ8eBoniou"
      },
      "outputs": [],
      "source": [
        "!cd Deep_Python; echo \"Я больше не дединсайд\" >> no_death.txt #забыли добавить важную информацию\n",
        "!cd Deep_Python; git add * #добавить все\n",
        "!cd Deep_Python; git commit --amend -m \"Third version\" #переписать последний коммит\n",
        "!cd Deep_Python; git log --pretty=oneline --graph # проверяем"
      ]
    },
    {
      "cell_type": "markdown",
      "metadata": {
        "id": "PlXPJagqpjy2"
      },
      "source": [
        "А если мы что-то не хотим добавлять (а уже добавили) или же мы хотим, чтобы изменения в файле не были записаны? На это тоже есть команда, само собой:\n",
        "\n",
        "```\n",
        "git reset HEAD <your file> - убираем из staging\n",
        "```"
      ]
    },
    {
      "cell_type": "code",
      "execution_count": null,
      "metadata": {
        "id": "fNXAUjtoqEXU"
      },
      "outputs": [],
      "source": [
        "!cd Deep_Python; echo \"Я дединсайд\" > death.txt\n",
        "!cd Deep_Python; echo \"Once again Hello world\" >> Hello.txt\n",
        "!cd Deep_Python; echo \"Once again Hello world\" >> Hello_new.txt\n",
        "!cd Deep_Python; git diff; echo '-----'; git status; echo '-----'; git add *"
      ]
    },
    {
      "cell_type": "code",
      "execution_count": null,
      "metadata": {
        "id": "DBhxuxTwqgQY"
      },
      "outputs": [],
      "source": [
        "!cd Deep_Python; git reset HEAD death.txt; git status; echo '------'\n",
        "!cd Deep_Python; git reset HEAD Hello.txt; git diff\n",
        "!cd Deep_Python; git commit -m \"Fourth version\""
      ]
    },
    {
      "cell_type": "code",
      "execution_count": null,
      "metadata": {
        "id": "Ts28TnGGq4rx"
      },
      "outputs": [],
      "source": [
        "!cd Deep_Python; git diff;"
      ]
    },
    {
      "cell_type": "markdown",
      "metadata": {
        "id": "5H76uMEtyjwk"
      },
      "source": [
        "### Хвастаемся результатом с командой"
      ]
    },
    {
      "cell_type": "markdown",
      "metadata": {
        "id": "BtJOIfJBvvj0"
      },
      "source": [
        "Поменяли что-то - хотим теперь отправить. Делаем с помощью\n",
        "\n",
        "```\n",
        "    git push\n",
        "    git pull\n",
        "```"
      ]
    },
    {
      "cell_type": "code",
      "execution_count": null,
      "metadata": {
        "id": "ggk3MdBwv8nu"
      },
      "outputs": [],
      "source": [
        "!cd True_Python; git remote -v #смотрим, какие репозитории у нас тут привязаны\n",
        "# а если будет несколько репозиториев? Тогда можно непосредственно добавить связь через\n",
        "# git remote add <name> <url> - можно пушить через git push <name>\n",
        "!cd True_Python; git remote show origin #смотрим, куда пойдет pull, а куда пойдет push"
      ]
    },
    {
      "cell_type": "markdown",
      "metadata": {
        "id": "CpG4M4LCx60c"
      },
      "source": [
        "В чем разница между pull и push:\n",
        "\n",
        "* git push - закомить наши изменения, но при этом, если кто-то сделал изменения до этого, то при подтверждении push все, что сделал другой, будет убито (поговорим об этом при ветвлении)\n",
        "\n",
        "* git pull - комбинация git fetch и git merge, то есть достань все изменения и сделай слияние (то есть получи актуальную информацию, что кто-то сделал изменения и после этого попробуй сделать слияние, добавляя ветвь)"
      ]
    },
    {
      "cell_type": "code",
      "execution_count": null,
      "metadata": {
        "id": "fwdaJTycwwXQ"
      },
      "outputs": [],
      "source": [
        "!cd True_Python; git fetch origin # хотим получить все обновления, но их пока нет\n",
        "# !cd True_Python; git push origin master # если мы одни работаем\n",
        "# !cd True_Python; git pull origin master # если бывают разные изменения, и только потомможно делать push\n",
        "# !cd True_Python; git remote remove origin # если мы решили отвязаться от удаленного доступа по какой-то причине"
      ]
    },
    {
      "cell_type": "markdown",
      "metadata": {
        "id": "bu9tGUxbyolH"
      },
      "source": [
        "### Ветвимся"
      ]
    },
    {
      "cell_type": "markdown",
      "metadata": {
        "id": "JSHu96Zvyx8T"
      },
      "source": [
        "![](https://javarush.ru/images/article/4f84c6fd-841e-40e8-8914-e2064440225c/800.jpeg)"
      ]
    },
    {
      "cell_type": "markdown",
      "metadata": {
        "id": "KHtwqTh4WNHi"
      },
      "source": [
        "А теперь про ветвления (раз заговорили о командной работе)\n",
        "\n",
        "Допустим, мы хотим сделать некоторое ответвление и создать новую версию для нашей работы. Делается это с помощью\n",
        "\n",
        "```\n",
        "git branch <name>\n",
        "git checkout -b <name> - создать ветвь и сразу переключиться на нее\n",
        "```\n",
        "\n",
        "Тогда создается новая ветвь, внутри которой можно делать изменения (изначально она будет там же, где и main)"
      ]
    },
    {
      "cell_type": "code",
      "execution_count": null,
      "metadata": {
        "id": "WMBcRTZ73Fkc"
      },
      "outputs": [],
      "source": [
        "!cd Deep_Python; git branch test"
      ]
    },
    {
      "cell_type": "code",
      "execution_count": null,
      "metadata": {
        "id": "7BqC6S273ST8"
      },
      "outputs": [],
      "source": [
        "!cd Deep_Python; git log --oneline --decorate"
      ]
    },
    {
      "cell_type": "markdown",
      "metadata": {
        "id": "xHzImA6h3b1F"
      },
      "source": [
        "Чтобы перейти на другую ветвь, используем:\n",
        "\n",
        "```\n",
        "git checkout <name>\n",
        "```"
      ]
    },
    {
      "cell_type": "code",
      "execution_count": null,
      "metadata": {
        "id": "sP-fRb4l3hny"
      },
      "outputs": [],
      "source": [
        "!cd Deep_Python; git checkout test #теперь изменения и коммиты будут идти на test\n",
        "!cd Deep_Python; git add *; git commit -m \"new branch\""
      ]
    },
    {
      "cell_type": "code",
      "execution_count": null,
      "metadata": {
        "id": "MqJSfF9N326G"
      },
      "outputs": [],
      "source": [
        "!cd Deep_Python; git log --oneline --decorate --graph #теперь master и test смотрят на разные снэпшоты"
      ]
    },
    {
      "cell_type": "code",
      "execution_count": null,
      "metadata": {
        "id": "dDGodTeN4HrT"
      },
      "outputs": [],
      "source": [
        "!cd Deep_Python; git checkout master; echo 'mmm' > Food.txt; git add Food.txt; git commit -m \"master branch\""
      ]
    },
    {
      "cell_type": "code",
      "execution_count": null,
      "metadata": {
        "id": "BLenGBEK4W-5"
      },
      "outputs": [],
      "source": [
        "!cd Deep_Python; git log --all --oneline --decorate --graph # Опа, дерево"
      ]
    },
    {
      "cell_type": "code",
      "execution_count": null,
      "metadata": {
        "id": "tA0NVBDz5RPj"
      },
      "outputs": [],
      "source": [
        "!cd Deep_Python; git merge test; git commit -m \"Merging\""
      ]
    },
    {
      "cell_type": "code",
      "execution_count": null,
      "metadata": {
        "id": "vh2vraWm568L"
      },
      "outputs": [],
      "source": [
        "!cd Deep_Python; git commit -m \"Merging\""
      ]
    },
    {
      "cell_type": "code",
      "execution_count": null,
      "metadata": {
        "id": "pCSvoqzD6D44"
      },
      "outputs": [],
      "source": [
        "!cd Deep_Python; git log --all --oneline --decorate --graph # Опа, дерево"
      ]
    },
    {
      "cell_type": "code",
      "execution_count": null,
      "metadata": {
        "id": "muoszhDR6YDt"
      },
      "outputs": [],
      "source": [
        "!cd Deep_Python; git branch -v --merged ##-v - показать все ветки с последним коммитом, --merged - показать слитые ветки\n",
        "!cd Deep_Python; git branch -d test #удаляем ссылку ветку test, без merge не даст удалить\n",
        "#!git push origin --delete master #удаляем ветвь из репозитория, потому что она не нужна\n"
      ]
    },
    {
      "cell_type": "markdown",
      "metadata": {
        "id": "VEGyXjsrC-Dd"
      },
      "source": [
        "### Git Stash - Как сохранить свой код когда очень нужно...\n",
        "\n",
        "Часто бывает нужно запустить версию кода которую залил коллега, скажем чтоб посмотреть как тесты новые работают (и при этом не хочется потерять свои изменения в текущей ветке или еще того хуже, вы все перепутали и уже почти все задевелопили в mastere...\n",
        "\n",
        "Для этих случаев подходит команда git stash, она сохраняет в stash копию текущего кода, без создания новой ветки. Типичный способ использования:\n",
        "\n",
        "Мы понаписали какой-то код, он tracked, unstaged and uncommited и в upstream произошли изменения, более того, мы вообще хотим этот код залить теперь в другую веткy, тогда последовательность:\n",
        "1. git stash clear\n",
        "2. git stash\n",
        "3. ....\n",
        "4. git stash apply (and possibly resolve conflicts)"
      ]
    },
    {
      "cell_type": "code",
      "execution_count": null,
      "metadata": {
        "id": "WTIvJOesC-Dd"
      },
      "outputs": [],
      "source": [
        "!cd Deep_Python; git checkout master\n",
        "!cd Deep_Python; echo \"Additional Hello world\" >> Hello.txt\n",
        "!cd Deep_Python; git status\n",
        "!cd Deep_Python; git stash clear\n",
        "!cd Deep_Python; git stash\n",
        "!cd Deep_Python; git status"
      ]
    },
    {
      "cell_type": "markdown",
      "metadata": {
        "id": "B2eFoECQ8C1c"
      },
      "source": [
        "### Задание 2 (на дом, до следующего семинара, на +1 балл к первому дз)"
      ]
    },
    {
      "cell_type": "markdown",
      "metadata": {
        "id": "x08Hcx_Jy7wj"
      },
      "source": [
        "В репозитории нашего курса есть папка Seminars/Seminar_1/test_git. Внутри него есть файл Hello.txt, в котором написан текст. Ваша задача:\n",
        "\n",
        "1. Загрузить репозиторий и создать отдельную ветвь по названию своего ника в Github\n",
        "\n",
        "2. Добавить туда еще одно предложение (какое угодно)\n",
        "\n",
        "3. Закоммитить и сделать pull request этой ветви"
      ]
    },
    {
      "cell_type": "markdown",
      "metadata": {
        "id": "sMN4ele2zgMb"
      },
      "source": [
        "Как в гитхабе сделать свой собственный коммит, чтобы он попал на pull request?\n",
        "\n",
        "Так как у вас нет доступа на изменение к основному репозиторию (что логично), то необходимо сделать fork проекта (создать, по сути, копию репозитория у себя на дому), делаете свою работу внутри, коммитите, и делаем pull request [Тык](https://docs.github.com/en/pull-requests/collaborating-with-pull-requests/proposing-changes-to-your-work-with-pull-requests/creating-a-pull-request)"
      ]
    },
    {
      "cell_type": "markdown",
      "source": [
        "## SQL\n",
        "\n",
        "SQL - это язык для взаимодействия с реляционными базами данных, он позволяет как экстарктить (вытаскивать) информацию из них, так и изменять их структуру.\n",
        "\n",
        "https://sqlzoo.net/wiki/SQL_Tutorial\n",
        "\n",
        "https://sql-ex.ru/ - хороший способ порешать задачки на SQL"
      ],
      "metadata": {
        "id": "G9S8nNmbJPhf"
      }
    },
    {
      "cell_type": "markdown",
      "source": [
        "Будем работать с табличкой следующего вида (будем называть ее countries):\n",
        "\n",
        "| name\t| continent | population | size\n",
        "| :------: | :------: | :------: | :------:\n",
        "|Afghanistan |\tAsia| 38 346 720 | 652 864\n",
        "|Albania\t| Europe| 2 876 591 | 28 748\n",
        "|Algeria\t|Africa| 44 226 000 | 2 381 741\n",
        "|Andorra\t|Europe| 77 718 | 468\n",
        "|Angola\t | Africa| 35 981 281 | 1 246 700\n",
        "|....|"
      ],
      "metadata": {
        "id": "B5qNS-3qJdq1"
      }
    },
    {
      "cell_type": "markdown",
      "source": [
        "### База"
      ],
      "metadata": {
        "id": "aHhiMImZKdRf"
      }
    },
    {
      "cell_type": "markdown",
      "source": [
        "Любой базовый запрос выглядит следующим образом:\n",
        "\n",
        "```\n",
        "SELECT *\n",
        "FROM <table>\n",
        "WHERE <conditions>\n",
        "[ORDER BY]\n",
        "[LIMIT]\n",
        "```"
      ],
      "metadata": {
        "id": "TkPx3JJfKfSv"
      }
    },
    {
      "cell_type": "markdown",
      "source": [
        "### Задание 3"
      ],
      "metadata": {
        "id": "dHgZs3daKpdF"
      }
    },
    {
      "cell_type": "markdown",
      "source": [
        "Выберите все страны, которые находятся в Европе"
      ],
      "metadata": {
        "id": "TVLS32f2Krxq"
      }
    },
    {
      "cell_type": "markdown",
      "source": [
        "### Задание 4"
      ],
      "metadata": {
        "id": "7rRzD2b8Kyty"
      }
    },
    {
      "cell_type": "markdown",
      "source": [
        "Выберите все страны, чье население более 50млн человек"
      ],
      "metadata": {
        "id": "agOlz0u9K08K"
      }
    },
    {
      "cell_type": "markdown",
      "source": [
        "### Задание 5"
      ],
      "metadata": {
        "id": "Vt3LhmixK6Vn"
      }
    },
    {
      "cell_type": "markdown",
      "source": [
        "Выберите все страны, в чьих названиях есть буква F"
      ],
      "metadata": {
        "id": "2pxIDrCgK7z4"
      }
    },
    {
      "cell_type": "markdown",
      "source": [
        "### Задание 6"
      ],
      "metadata": {
        "id": "QubK_wSDNKZe"
      }
    },
    {
      "cell_type": "markdown",
      "source": [
        "Вывести топ-5 стран по наибольшей плотности населения (плотность = численность / размер)"
      ],
      "metadata": {
        "id": "WleR9YbnNL0y"
      }
    },
    {
      "cell_type": "markdown",
      "source": [
        "### Агрегация"
      ],
      "metadata": {
        "id": "myt3ha3KLJlX"
      }
    },
    {
      "cell_type": "markdown",
      "source": [
        "Все было бы хорошо и незайтеливо, если бы нам нужно было только получать условные срезы. А мы хотим более сложные операции, например, хотим посчитать, допустим, среднее число жителей в странах Африки. Для этого существуют агрегации!\n",
        "\n",
        "Какие бывают агрегации и как оно пишется?\n",
        "\n",
        "```\n",
        "select <smth>, SUM(<other>) as agg_f\n",
        "FROM <table>\n",
        "GROUP BY <smth>\n",
        "[HAVING <cond>]\n",
        "```\n",
        "\n",
        "Можно считать суммы, средние, максимум, минимум, счет (SUM, AVG, MAX, MIN, COUNT)"
      ],
      "metadata": {
        "id": "DVtoScqyL-Zf"
      }
    },
    {
      "cell_type": "markdown",
      "source": [
        "### Задание 7"
      ],
      "metadata": {
        "id": "cWHcJogIM-N0"
      }
    },
    {
      "cell_type": "markdown",
      "source": [
        "Посчитать среднее число жителей в странах по континентам и максимальное число жителей в странах"
      ],
      "metadata": {
        "id": "cHrBUahuNAom"
      }
    },
    {
      "cell_type": "markdown",
      "source": [
        "### JOIN"
      ],
      "metadata": {
        "id": "ZYNBMsGpLLx-"
      }
    },
    {
      "cell_type": "markdown",
      "source": [
        "А теперь еще и добавим новые таблицы! Допустим, у нас есть вот такая таблица:\n",
        "\n",
        "|yr|\tcountry\n",
        "| :------: | :------: |\n",
        "1896\t| Greece\n",
        "1948\t| United Kingdom\n",
        "2004\t|Greece\n",
        "2008|\tChina\n",
        "2012\t|United Kingdom"
      ],
      "metadata": {
        "id": "N_NlQ8cXNfqK"
      }
    },
    {
      "cell_type": "markdown",
      "source": [
        "И мы хотим понять по континентам последний год, когда были проведены Олимпийские Игры на этом континенте. Что же делать?\n",
        "\n",
        "Для этого есть оператор JOIN:\n",
        "\n",
        "```\n",
        "SELECT *\n",
        "FROM <table_1> as t_1\n",
        "[LEFT/RIGHT] JOIN <table_2> as t_2\n",
        "ON t_1.<> = t_2.<>\n",
        "```\n",
        "\n",
        "Бывают разные JOINы, где все зависит от того, что необходимо"
      ],
      "metadata": {
        "id": "AOGd2oP6NnIU"
      }
    },
    {
      "cell_type": "markdown",
      "source": [
        "### Задание 8"
      ],
      "metadata": {
        "id": "UPMWbw2ROkMX"
      }
    },
    {
      "cell_type": "markdown",
      "source": [
        "Для каждого континента вывести последний год, когда были последние Олимпийские Игры. Если их не было, вывести \"No game\""
      ],
      "metadata": {
        "id": "6e2F04b-OnC8"
      }
    },
    {
      "cell_type": "markdown",
      "source": [
        "## Попугай дня"
      ],
      "metadata": {
        "id": "6x56oSJ_O-2w"
      }
    },
    {
      "cell_type": "markdown",
      "source": [
        "![](https://animalreader.ru/wp-content/uploads/2014/11/agapornis1-e1414857031425.jpg)"
      ],
      "metadata": {
        "id": "dvMgSik8PLGd"
      }
    },
    {
      "cell_type": "markdown",
      "source": [
        "А это неразлучник. Его так назвали, потому что когда европейцы их впервые увидели, они видели их постоянно в паре, как будто они друг с другом не разлучаются, и думали, что если один из пары погибает, то и второй тоже (по аналогии историй с лебедями). И хотя они формируют долгие моногамные связи (в целом попугаи очень моногамные животные, что удивительно), они разлучаются друг с другом\n",
        "\n"
      ],
      "metadata": {
        "id": "EF41NXbwPOst"
      }
    },
    {
      "cell_type": "markdown",
      "source": [
        "## Полезные ссылки"
      ],
      "metadata": {
        "id": "pEgKALs3QDMA"
      }
    },
    {
      "cell_type": "markdown",
      "source": [
        "* https://linuxhint.com/3hr_bash_tutorial/ - полноценный курс по bash и скрипты (рекомендуется ознакомиться)\n",
        "\n",
        "* https://habr.com/ru/post/267825/ - ссылка на пост, где рассказывается самое основное в Bash\n",
        "\n",
        "* https://git-scm.com/book/en/v2 - полный мануал по Гиту (он небольшой, почитайте)\n",
        "\n",
        "* SQL Zoo Tutorial: https://sqlzoo.net/wiki/SQL_Tutorial"
      ],
      "metadata": {
        "id": "qwt3ezVXQFEi"
      }
    }
  ]
}